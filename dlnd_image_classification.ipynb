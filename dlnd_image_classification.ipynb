{
 "cells": [
  {
   "cell_type": "markdown",
   "metadata": {
    "collapsed": true
   },
   "source": [
    "# 图像分类\n",
    "\n",
    "在此项目中，你将对 [CIFAR-10 数据集](https://www.cs.toronto.edu/~kriz/cifar.html) 中的图片进行分类。该数据集包含飞机、猫狗和其他物体。你需要预处理这些图片，然后用所有样本训练一个卷积神经网络。图片需要标准化（normalized），标签需要采用 one-hot 编码。你需要应用所学的知识构建卷积的、最大池化（max pooling）、丢弃（dropout）和完全连接（fully connected）的层。最后，你需要在样本图片上看到神经网络的预测结果。\n",
    "\n",
    "\n",
    "## 获取数据\n",
    "\n",
    "请运行以下单元，以下载 [CIFAR-10 数据集（Python版）](https://www.cs.toronto.edu/~kriz/cifar-10-python.tar.gz)。\n"
   ]
  },
  {
   "cell_type": "code",
   "execution_count": 67,
   "metadata": {},
   "outputs": [
    {
     "name": "stdout",
     "output_type": "stream",
     "text": [
      "All files found!\n"
     ]
    }
   ],
   "source": [
    "\"\"\"\n",
    "DON'T MODIFY ANYTHING IN THIS CELL THAT IS BELOW THIS LINE\n",
    "\"\"\"\n",
    "from urllib.request import urlretrieve\n",
    "from os.path import isfile, isdir\n",
    "from tqdm import tqdm\n",
    "import problem_unittests as tests\n",
    "import tarfile\n",
    "\n",
    "cifar10_dataset_folder_path = 'cifar-10-batches-py'\n",
    "\n",
    "# Use Floyd's cifar-10 dataset if present\n",
    "floyd_cifar10_location = '/input/cifar-10/python.tar.gz'\n",
    "if isfile(floyd_cifar10_location):\n",
    "    tar_gz_path = floyd_cifar10_location\n",
    "else:\n",
    "    tar_gz_path = 'cifar-10-python.tar.gz'\n",
    "\n",
    "class DLProgress(tqdm):\n",
    "    last_block = 0\n",
    "\n",
    "    def hook(self, block_num=1, block_size=1, total_size=None):\n",
    "        self.total = total_size\n",
    "        self.update((block_num - self.last_block) * block_size)\n",
    "        self.last_block = block_num\n",
    "\n",
    "if not isfile(tar_gz_path):\n",
    "    with DLProgress(unit='B', unit_scale=True, miniters=1, desc='CIFAR-10 Dataset') as pbar:\n",
    "        urlretrieve(\n",
    "            'https://www.cs.toronto.edu/~kriz/cifar-10-python.tar.gz',\n",
    "            tar_gz_path,\n",
    "            pbar.hook)\n",
    "\n",
    "if not isdir(cifar10_dataset_folder_path):\n",
    "    with tarfile.open(tar_gz_path) as tar:\n",
    "        tar.extractall()\n",
    "        tar.close()\n",
    "\n",
    "\n",
    "tests.test_folder_path(cifar10_dataset_folder_path)"
   ]
  },
  {
   "cell_type": "markdown",
   "metadata": {},
   "source": [
    "## 探索数据\n",
    "\n",
    "该数据集分成了几部分／批次（batches），以免你的机器在计算时内存不足。CIFAR-10 数据集包含 5 个部分，名称分别为 `data_batch_1`、`data_batch_2`，以此类推。每个部分都包含以下某个类别的标签和图片：\n",
    "\n",
    "* 飞机\n",
    "* 汽车\n",
    "* 鸟类\n",
    "* 猫\n",
    "* 鹿\n",
    "* 狗\n",
    "* 青蛙\n",
    "* 马\n",
    "* 船只\n",
    "* 卡车\n",
    "\n",
    "了解数据集也是对数据进行预测的必经步骤。你可以通过更改 `batch_id` 和 `sample_id` 探索下面的代码单元。`batch_id` 是数据集一个部分的 ID（1 到 5）。`sample_id` 是该部分中图片和标签对（label pair）的 ID。\n",
    "\n",
    "问问你自己：“可能的标签有哪些？”、“图片数据的值范围是多少？”、“标签是按顺序排列，还是随机排列的？”。思考类似的问题，有助于你预处理数据，并使预测结果更准确。\n"
   ]
  },
  {
   "cell_type": "code",
   "execution_count": 68,
   "metadata": {},
   "outputs": [
    {
     "name": "stdout",
     "output_type": "stream",
     "text": [
      "\n",
      "Stats of batch 1:\n",
      "Samples: 10000\n",
      "Label Counts: {0: 1005, 1: 974, 2: 1032, 3: 1016, 4: 999, 5: 937, 6: 1030, 7: 1001, 8: 1025, 9: 981}\n",
      "First 20 Labels: [6, 9, 9, 4, 1, 1, 2, 7, 8, 3, 4, 7, 7, 2, 9, 9, 9, 3, 2, 6]\n",
      "\n",
      "Example of Image 5:\n",
      "Image - Min Value: 0 Max Value: 252\n",
      "Image - Shape: (32, 32, 3)\n",
      "Label - Label Id: 1 Name: automobile\n"
     ]
    },
    {
     "data": {
      "image/png": "[encoded data removed]",
      "text/plain": [
       "<matplotlib.figure.Figure at 0x12edaff98>"
      ]
     },
     "metadata": {
      "image/png": {
       "height": 250,
       "width": 253
      }
     },
     "output_type": "display_data"
    }
   ],
   "source": [
    "%matplotlib inline\n",
    "%config InlineBackend.figure_format = 'retina'\n",
    "\n",
    "import helper\n",
    "import numpy as np\n",
    "\n",
    "# Explore the dataset\n",
    "batch_id = 1\n",
    "sample_id = 5\n",
    "helper.display_stats(cifar10_dataset_folder_path, batch_id, sample_id)"
   ]
  },
  {
   "cell_type": "markdown",
   "metadata": {},
   "source": [
    "## 实现预处理函数\n",
    "\n",
    "### 标准化\n",
    "\n",
    "在下面的单元中，实现 `normalize` 函数，传入图片数据 `x`，并返回标准化 Numpy 数组。值应该在 0 到 1 的范围内（含 0 和 1）。返回对象应该和 `x` 的形状一样。\n"
   ]
  },
  {
   "cell_type": "code",
   "execution_count": 93,
   "metadata": {},
   "outputs": [
    {
     "name": "stdout",
     "output_type": "stream",
     "text": [
      "Tests Passed\n"
     ]
    }
   ],
   "source": [
    "def normalize(x):\n",
    "    \"\"\"\n",
    "    Normalize a list of sample image data in the range of 0 to 1\n",
    "    : x: List of image data.  The image shape is (32, 32, 3)\n",
    "    : return: Numpy array of normalize data\n",
    "    \"\"\"\n",
    "    # TODO: Implement Function\n",
    "    a = 0\n",
    "    b = 1\n",
    "    grayscale_min = 0\n",
    "    grayscale_max = 255\n",
    "    return a + ( ( (x - grayscale_min)*(b - a) )/( grayscale_max - grayscale_min ) )\n",
    "\n",
    "\"\"\"\n",
    "DON'T MODIFY ANYTHING IN THIS CELL THAT IS BELOW THIS LINE\n",
    "\"\"\"\n",
    "tests.test_normalize(normalize)"
   ]
  },
  {
   "cell_type": "markdown",
   "metadata": {},
   "source": [
    "### One-hot 编码\n",
    "\n",
    "和之前的代码单元一样，你将为预处理实现一个函数。这次，你将实现 `one_hot_encode` 函数。输入，也就是 `x`，是一个标签列表。实现该函数，以返回为 one_hot 编码的 Numpy 数组的标签列表。标签的可能值为 0 到 9。每次调用 `one_hot_encode` 时，对于每个值，one_hot 编码函数应该返回相同的编码。确保将编码映射保存到该函数外面。\n",
    "\n",
    "提示：不要重复发明轮子。\n"
   ]
  },
  {
   "cell_type": "code",
   "execution_count": 119,
   "metadata": {},
   "outputs": [
    {
     "name": "stdout",
     "output_type": "stream",
     "text": [
      "Tests Passed\n"
     ]
    }
   ],
   "source": [
    "from sklearn.preprocessing import LabelBinarizer\n",
    "\n",
    "encoder = LabelBinarizer()\n",
    "encoder.fit(range(10))\n",
    "\n",
    "def one_hot_encode(x):\n",
    "    \"\"\"\n",
    "    One hot encode a list of sample labels. Return a one-hot encoded vector for each label.\n",
    "    : x: List of sample Labels\n",
    "    : return: Numpy array of one-hot encoded labels\n",
    "    \"\"\"\n",
    "    # TODO: Implement Function\n",
    "    return encoder.transform(x)\n",
    "\n",
    "\n",
    "\"\"\"\n",
    "DON'T MODIFY ANYTHING IN THIS CELL THAT IS BELOW THIS LINE\n",
    "\"\"\"\n",
    "tests.test_one_hot_encode(one_hot_encode)"
   ]
  },
  {
   "cell_type": "markdown",
   "metadata": {},
   "source": [
    "### 随机化数据\n",
    "\n",
    "之前探索数据时，你已经了解到，样本的顺序是随机的。再随机化一次也不会有什么关系，但是对于这个数据集没有必要。\n"
   ]
  },
  {
   "cell_type": "markdown",
   "metadata": {},
   "source": [
    "## 预处理所有数据并保存\n",
    "\n",
    "运行下方的代码单元，将预处理所有 CIFAR-10 数据，并保存到文件中。下面的代码还使用了 10% 的训练数据，用来验证。\n"
   ]
  },
  {
   "cell_type": "code",
   "execution_count": 95,
   "metadata": {
    "collapsed": true
   },
   "outputs": [],
   "source": [
    "\"\"\"\n",
    "DON'T MODIFY ANYTHING IN THIS CELL\n",
    "\"\"\"\n",
    "# Preprocess Training, Validation, and Testing Data\n",
    "helper.preprocess_and_save_data(cifar10_dataset_folder_path, normalize, one_hot_encode)"
   ]
  },
  {
   "cell_type": "markdown",
   "metadata": {},
   "source": [
    "# 检查点\n",
    "\n",
    "这是你的第一个检查点。如果你什么时候决定再回到该记事本，或需要重新启动该记事本，你可以从这里开始。预处理的数据已保存到本地。\n"
   ]
  },
  {
   "cell_type": "code",
   "execution_count": 96,
   "metadata": {
    "collapsed": true
   },
   "outputs": [],
   "source": [
    "\"\"\"\n",
    "DON'T MODIFY ANYTHING IN THIS CELL\n",
    "\"\"\"\n",
    "import pickle\n",
    "import problem_unittests as tests\n",
    "import helper\n",
    "\n",
    "# Load the Preprocessed Validation data\n",
    "valid_features, valid_labels = pickle.load(open('preprocess_validation.p', mode='rb'))"
   ]
  },
  {
   "cell_type": "markdown",
   "metadata": {},
   "source": [
    "## 构建网络\n",
    "\n",
    "对于该神经网络，你需要将每层都构建为一个函数。你看到的大部分代码都位于函数外面。要更全面地测试你的代码，我们需要你将每层放入一个函数中。这样使我们能够提供更好的反馈，并使用我们的统一测试检测简单的错误，然后再提交项目。\n",
    "\n",
    ">**注意**：如果你觉得每周很难抽出足够的时间学习这门课程，我们为此项目提供了一个小捷径。对于接下来的几个问题，你可以使用 [TensorFlow Layers](https://www.tensorflow.org/api_docs/python/tf/layers) 或 [TensorFlow Layers (contrib)](https://www.tensorflow.org/api_guides/python/contrib.layers) 程序包中的类来构建每个层级，但是“卷积和最大池化层级”部分的层级除外。TF Layers 和 Keras 及 TFLearn 层级类似，因此很容易学会。\n",
    "\n",
    ">但是，如果你想充分利用这门课程，请尝试自己解决所有问题，不使用 TF Layers 程序包中的任何类。你依然可以使用其他程序包中的类，这些类和你在 TF Layers 中的类名称是一样的！例如，你可以使用 TF Neural Network 版本的 `conv2d` 类 [tf.nn.conv2d](https://www.tensorflow.org/api_docs/python/tf/nn/conv2d)，而不是 TF Layers 版本的 `conv2d` 类 [tf.layers.conv2d](https://www.tensorflow.org/api_docs/python/tf/layers/conv2d)。\n",
    "\n",
    "我们开始吧！\n",
    "\n",
    "\n",
    "### 输入\n",
    "\n",
    "神经网络需要读取图片数据、one-hot 编码标签和丢弃保留概率（dropout keep probability）。请实现以下函数：\n",
    "\n",
    "* 实现 `neural_net_image_input`\n",
    " * 返回 [TF Placeholder](https://www.tensorflow.org/api_docs/python/tf/placeholder)\n",
    " * 使用 `image_shape` 设置形状，部分大小设为 `None`\n",
    " * 使用 [TF Placeholder](https://www.tensorflow.org/api_docs/python/tf/placeholder) 中的 TensorFlow `name` 参数对 TensorFlow 占位符 \"x\" 命名\n",
    "* 实现 `neural_net_label_input`\n",
    " * 返回 [TF Placeholder](https://www.tensorflow.org/api_docs/python/tf/placeholder)\n",
    " * 使用 `n_classes` 设置形状，部分大小设为 `None`\n",
    " * 使用 [TF Placeholder](https://www.tensorflow.org/api_docs/python/tf/placeholder) 中的 TensorFlow `name` 参数对 TensorFlow 占位符 \"y\" 命名\n",
    "* 实现 `neural_net_keep_prob_input`\n",
    " * 返回 [TF Placeholder](https://www.tensorflow.org/api_docs/python/tf/placeholder)，用于丢弃保留概率\n",
    " * 使用 [TF Placeholder](https://www.tensorflow.org/api_docs/python/tf/placeholder) 中的 TensorFlow `name` 参数对 TensorFlow 占位符 \"keep_prob\" 命名\n",
    "\n",
    "这些名称将在项目结束时，用于加载保存的模型。\n",
    "\n",
    "注意：TensorFlow 中的 `None` 表示形状可以是动态大小。"
   ]
  },
  {
   "cell_type": "code",
   "execution_count": 97,
   "metadata": {},
   "outputs": [
    {
     "name": "stdout",
     "output_type": "stream",
     "text": [
      "Image Input Tests Passed.\n",
      "Label Input Tests Passed.\n",
      "Keep Prob Tests Passed.\n"
     ]
    }
   ],
   "source": [
    "import tensorflow as tf\n",
    "\n",
    "def neural_net_image_input(image_shape):\n",
    "    \"\"\"\n",
    "    Return a Tensor for a batch of image input\n",
    "    : image_shape: Shape of the images\n",
    "    : return: Tensor for image input.\n",
    "    \"\"\"\n",
    "    # TODO: Implement Function\n",
    "    # height, width, deepth = image_shape\n",
    "    return tf.placeholder(tf.float32, shape=[None, *image_shape], name='x')\n",
    "\n",
    "\n",
    "def neural_net_label_input(n_classes):\n",
    "    \"\"\"\n",
    "    Return a Tensor for a batch of label input\n",
    "    : n_classes: Number of classes\n",
    "    : return: Tensor for label input.\n",
    "    \"\"\"\n",
    "    # TODO: Implement Function\n",
    "    return tf.placeholder(tf.float32, shape=[None, n_classes], name='y')\n",
    "\n",
    "\n",
    "def neural_net_keep_prob_input():\n",
    "    \"\"\"\n",
    "    Return a Tensor for keep probability\n",
    "    : return: Tensor for keep probability.\n",
    "    \"\"\"\n",
    "    # TODO: Implement Function\n",
    "    return tf.placeholder(tf.float32, name='keep_prob')\n",
    "\n",
    "\n",
    "\"\"\"\n",
    "DON'T MODIFY ANYTHING IN THIS CELL THAT IS BELOW THIS LINE\n",
    "\"\"\"\n",
    "tf.reset_default_graph()\n",
    "tests.test_nn_image_inputs(neural_net_image_input)\n",
    "tests.test_nn_label_inputs(neural_net_label_input)\n",
    "tests.test_nn_keep_prob_inputs(neural_net_keep_prob_input)"
   ]
  },
  {
   "cell_type": "markdown",
   "metadata": {},
   "source": [
    "### 卷积和最大池化层\n",
    "\n",
    "卷积层级适合处理图片。对于此代码单元，你应该实现函数 `conv2d_maxpool` 以便应用卷积然后进行最大池化：\n",
    "\n",
    "* 使用 `conv_ksize`、`conv_num_outputs` 和 `x_tensor` 的形状创建权重（weight）和偏置（bias）。\n",
    "* 使用权重和 `conv_strides` 对 `x_tensor` 应用卷积。\n",
    " * 建议使用我们建议的间距（padding），当然也可以使用任何其他间距。\n",
    "* 添加偏置\n",
    "* 向卷积中添加非线性激活（nonlinear activation）\n",
    "* 使用 `pool_ksize` 和 `pool_strides` 应用最大池化\n",
    " * 建议使用我们建议的间距（padding），当然也可以使用任何其他间距。\n",
    "\n",
    "**注意**：对于**此层**，**请勿使用** [TensorFlow Layers](https://www.tensorflow.org/api_docs/python/tf/layers) 或 [TensorFlow Layers (contrib)](https://www.tensorflow.org/api_guides/python/contrib.layers)，但是仍然可以使用 TensorFlow 的 [Neural Network](https://www.tensorflow.org/api_docs/python/tf/nn) 包。对于所有**其他层**，你依然可以使用快捷方法。\n"
   ]
  },
  {
   "cell_type": "code",
   "execution_count": 107,
   "metadata": {},
   "outputs": [
    {
     "name": "stdout",
     "output_type": "stream",
     "text": [
      "Tests Passed\n"
     ]
    }
   ],
   "source": [
    "def conv2d_maxpool(x_tensor, conv_num_outputs, conv_ksize, conv_strides, pool_ksize, pool_strides):\n",
    "    \"\"\"\n",
    "    Apply convolution then max pooling to x_tensor\n",
    "    :param x_tensor: TensorFlow Tensor\n",
    "    :param conv_num_outputs: Number of outputs for the convolutional layer\n",
    "    :param conv_ksize: kernal size 2-D Tuple for the convolutional layer\n",
    "    :param conv_strides: Stride 2-D Tuple for convolution\n",
    "    :param pool_ksize: kernal size 2-D Tuple for pool\n",
    "    :param pool_strides: Stride 2-D Tuple for pool\n",
    "    : return: A tensor that represents convolution and max pooling of x_tensor\n",
    "    \"\"\"\n",
    "    # TODO: Implement Function\n",
    "    input_deepth = x_tensor.get_shape().as_list()[-1]\n",
    "    \n",
    "    filter_height, filter_width = conv_ksize\n",
    "    filter_weights = tf.Variable(tf.truncated_normal((filter_height, filter_width, input_deepth, conv_num_outputs), stddev=0.1))\n",
    "    filter_bias = tf.Variable(tf.zeros(conv_num_outputs))\n",
    "    \n",
    "    # apply conv to x_tensor\n",
    "    conv_height, conv_width = conv_strides\n",
    "    convolution = tf.nn.conv2d(x_tensor, filter_weights, [1, conv_height, conv_width, 1], padding=\"SAME\")\n",
    "    convolution = tf.nn.relu(tf.nn.bias_add(convolution, filter_bias))\n",
    "    \n",
    "    # apply max pool\n",
    "    conv_h, conv_w = pool_ksize\n",
    "    pool_h, pool_w = pool_strides\n",
    "    convolution = tf.nn.max_pool(convolution, [1, conv_h, conv_w, 1], [1, pool_h, pool_w, 1], padding=\"SAME\")\n",
    "    \n",
    "    return convolution \n",
    "\n",
    "\n",
    "\"\"\"\n",
    "DON'T MODIFY ANYTHING IN THIS CELL THAT IS BELOW THIS LINE\n",
    "\"\"\"\n",
    "tests.test_con_pool(conv2d_maxpool)"
   ]
  },
  {
   "cell_type": "markdown",
   "metadata": {},
   "source": [
    "### 扁平化层\n",
    "\n",
    "实现 `flatten` 函数，将 `x_tensor` 的维度从四维张量（4-D tensor）变成二维张量。输出应该是形状（*部分大小（Batch Size）*，*扁平化图片大小（Flattened Image Size）*）。快捷方法：对于此层，你可以使用 [TensorFlow Layers](https://www.tensorflow.org/api_docs/python/tf/layers) 或 [TensorFlow Layers (contrib)](https://www.tensorflow.org/api_guides/python/contrib.layers) 包中的类。如果你想要更大挑战，可以仅使用其他 TensorFlow 程序包。\n"
   ]
  },
  {
   "cell_type": "code",
   "execution_count": 99,
   "metadata": {},
   "outputs": [
    {
     "name": "stdout",
     "output_type": "stream",
     "text": [
      "Tests Passed\n"
     ]
    }
   ],
   "source": [
    "def flatten(x_tensor):\n",
    "    \"\"\"\n",
    "    Flatten x_tensor to (Batch Size, Flattened Image Size)\n",
    "    : x_tensor: A tensor of size (Batch Size, ...), where ... are the image dimensions.\n",
    "    : return: A tensor of size (Batch Size, Flattened Image Size).\n",
    "    \"\"\"\n",
    "    # TODO: Implement Function\n",
    "    return tf.contrib.layers.flatten(x_tensor)\n",
    "\n",
    "\n",
    "\"\"\"\n",
    "DON'T MODIFY ANYTHING IN THIS CELL THAT IS BELOW THIS LINE\n",
    "\"\"\"\n",
    "tests.test_flatten(flatten)"
   ]
  },
  {
   "cell_type": "markdown",
   "metadata": {},
   "source": [
    "### 全连接层\n",
    "\n",
    "实现 `fully_conn` 函数，以向 `x_tensor` 应用完全连接的层级，形状为（*部分大小（Batch Size）*，*num_outputs*）。快捷方法：对于此层，你可以使用 [TensorFlow Layers](https://www.tensorflow.org/api_docs/python/tf/layers) 或 [TensorFlow Layers (contrib)](https://www.tensorflow.org/api_guides/python/contrib.layers) 包中的类。如果你想要更大挑战，可以仅使用其他 TensorFlow 程序包。"
   ]
  },
  {
   "cell_type": "code",
   "execution_count": 108,
   "metadata": {},
   "outputs": [
    {
     "name": "stdout",
     "output_type": "stream",
     "text": [
      "Tests Passed\n"
     ]
    }
   ],
   "source": [
    "def fully_conn(x_tensor, num_outputs):\n",
    "    \"\"\"\n",
    "    Apply a fully connected layer to x_tensor using weight and bias\n",
    "    : x_tensor: A 2-D tensor where the first dimension is batch size.\n",
    "    : num_outputs: The number of output that the new tensor should be.\n",
    "    : return: A 2-D tensor where the second dimension is num_outputs.\n",
    "    \"\"\"\n",
    "    # TODO: Implement Function\n",
    "    return tf.contrib.layers.fully_connected(x_tensor, num_outputs)\n",
    "\n",
    "\n",
    "\"\"\"\n",
    "DON'T MODIFY ANYTHING IN THIS CELL THAT IS BELOW THIS LINE\n",
    "\"\"\"\n",
    "tests.test_fully_conn(fully_conn)"
   ]
  },
  {
   "cell_type": "markdown",
   "metadata": {},
   "source": [
    "### 输出层\n",
    "\n",
    "实现 `output` 函数，向 x_tensor 应用完全连接的层级，形状为（*部分大小（Batch Size）*，*num_outputs*）。快捷方法：对于此层，你可以使用 [TensorFlow Layers](https://www.tensorflow.org/api_docs/python/tf/layers) 或 [TensorFlow Layers (contrib)](https://www.tensorflow.org/api_guides/python/contrib.layers) 包中的类。如果你想要更大挑战，可以仅使用其他 TensorFlow 程序包。\n",
    "\n",
    "**注意**：该层级不应应用 Activation、softmax 或交叉熵（cross entropy）。"
   ]
  },
  {
   "cell_type": "code",
   "execution_count": 109,
   "metadata": {},
   "outputs": [
    {
     "name": "stdout",
     "output_type": "stream",
     "text": [
      "Tests Passed\n"
     ]
    }
   ],
   "source": [
    "def output(x_tensor, num_outputs):\n",
    "    \"\"\"\n",
    "    Apply a output layer to x_tensor using weight and bias\n",
    "    : x_tensor: A 2-D tensor where the first dimension is batch size.\n",
    "    : num_outputs: The number of output that the new tensor should be.\n",
    "    : return: A 2-D tensor where the second dimension is num_outputs.\n",
    "    \"\"\"\n",
    "    # TODO: Implement Function\n",
    "    return tf.layers.dense(x_tensor, num_outputs)\n",
    "\n",
    "\n",
    "\"\"\"\n",
    "DON'T MODIFY ANYTHING IN THIS CELL THAT IS BELOW THIS LINE\n",
    "\"\"\"\n",
    "tests.test_output(output)"
   ]
  },
  {
   "cell_type": "markdown",
   "metadata": {},
   "source": [
    "### 创建卷积模型\n",
    "\n",
    "实现函数 `conv_net`， 创建卷积神经网络模型。该函数传入一批图片 `x`，并输出对数（logits）。使用你在上方创建的层创建此模型：\n",
    "\n",
    "* 应用 1、2 或 3 个卷积和最大池化层（Convolution and Max Pool layers）\n",
    "* 应用一个扁平层（Flatten Layer）\n",
    "* 应用 1、2 或 3 个完全连接层（Fully Connected Layers）\n",
    "* 应用一个输出层（Output Layer）\n",
    "* 返回输出\n",
    "* 使用 `keep_prob` 向模型中的一个或多个层应用 [TensorFlow 的 Dropout](https://www.tensorflow.org/api_docs/python/tf/nn/dropout)"
   ]
  },
  {
   "cell_type": "code",
   "execution_count": 136,
   "metadata": {},
   "outputs": [
    {
     "name": "stdout",
     "output_type": "stream",
     "text": [
      "Neural Network Built!\n"
     ]
    }
   ],
   "source": [
    "def conv_net(x, keep_prob):\n",
    "    \"\"\"\n",
    "    Create a convolutional neural network model\n",
    "    : x: Placeholder tensor that holds image data.\n",
    "    : keep_prob: Placeholder tensor that hold dropout keep probability.\n",
    "    : return: Tensor that represents logits\n",
    "    \"\"\"\n",
    "    # TODO: Apply 1, 2, or 3 Convolution and Max Pool layers\n",
    "    #    Play around with different number of outputs, kernel size and stride\n",
    "    # Function Definition from Above:\n",
    "    #    conv2d_maxpool(x_tensor, conv_num_outputs, conv_ksize, conv_strides, pool_ksize, pool_strides)\n",
    "    \n",
    "    # conv_strides maybe (3, 3), (4, 4) (5, 5), the prior two is better choice\n",
    "    conv_ksize = (4, 4)\n",
    "    conv_strides = (1, 1)\n",
    "    # pool_ksize = (3, 3) or (2, 2)\n",
    "    pool_ksize = (3, 3)\n",
    "    pool_strides = (2, 2)\n",
    "    conv_neural_net = conv2d_maxpool(x, 16, conv_ksize, conv_strides, pool_ksize, pool_strides)\n",
    "    conv_neural_net = conv2d_maxpool(conv_neural_net, 64, conv_ksize, conv_strides, pool_ksize, pool_strides)\n",
    "    conv_neural_net = conv2d_maxpool(conv_neural_net, 128, conv_ksize, conv_strides, pool_ksize, pool_strides)\n",
    "\n",
    "    # TODO: Apply a Flatten Layer\n",
    "    # Function Definition from Above:\n",
    "    #   flatten(x_tensor)\n",
    "    conv_neural_net = flatten(conv_neural_net)\n",
    "\n",
    "    # TODO: Apply 1, 2, or 3 Fully Connected Layers\n",
    "    #    Play around with different number of outputs\n",
    "    # Function Definition from Above:\n",
    "    #   fully_conn(x_tensor, num_outputs)\n",
    "    conv_neural_net = fully_conn(conv_neural_net, 64)\n",
    "    conv_neural_net = fully_conn(conv_neural_net, 32)\n",
    "    conv_neural_net = fully_conn(conv_neural_net, 16)\n",
    "    conv_neural_net = tf.nn.dropout(conv_neural_net, keep_prob)\n",
    "    \n",
    "    # TODO: Apply an Output Layer\n",
    "    #    Set this to the number of classes\n",
    "    # Function Definition from Above:\n",
    "    #   output(x_tensor, num_outputs)\n",
    "    conv_neural_net = output(conv_neural_net, 10)\n",
    "    \n",
    "    # TODO: return output\n",
    "    return conv_neural_net\n",
    "\n",
    "\n",
    "\"\"\"\n",
    "DON'T MODIFY ANYTHING IN THIS CELL THAT IS BELOW THIS LINE\n",
    "\"\"\"\n",
    "\n",
    "##############################\n",
    "## Build the Neural Network ##\n",
    "##############################\n",
    "\n",
    "# Remove previous weights, bias, inputs, etc..\n",
    "tf.reset_default_graph()\n",
    "\n",
    "# Inputs\n",
    "x = neural_net_image_input((32, 32, 3))\n",
    "y = neural_net_label_input(10)\n",
    "keep_prob = neural_net_keep_prob_input()\n",
    "\n",
    "# Model\n",
    "logits = conv_net(x, keep_prob)\n",
    "\n",
    "# Name logits Tensor, so that is can be loaded from disk after training\n",
    "logits = tf.identity(logits, name='logits')\n",
    "\n",
    "# Loss and Optimizer\n",
    "cost = tf.reduce_mean(tf.nn.softmax_cross_entropy_with_logits(logits=logits, labels=y))\n",
    "optimizer = tf.train.AdamOptimizer().minimize(cost)\n",
    "\n",
    "# Accuracy\n",
    "correct_pred = tf.equal(tf.argmax(logits, 1), tf.argmax(y, 1))\n",
    "accuracy = tf.reduce_mean(tf.cast(correct_pred, tf.float32), name='accuracy')\n",
    "\n",
    "tests.test_conv_net(conv_net)"
   ]
  },
  {
   "cell_type": "markdown",
   "metadata": {},
   "source": [
    "## 训练神经网络\n",
    "\n",
    "### 单次优化\n",
    "\n",
    "实现函数 `train_neural_network` 以进行单次优化（single optimization）。该优化应该使用 `optimizer` 优化 `session`，其中 `feed_dict` 具有以下参数：\n",
    "\n",
    "* `x` 表示图片输入\n",
    "* `y` 表示标签\n",
    "* `keep_prob` 表示丢弃的保留率\n",
    "\n",
    "每个部分都会调用该函数，所以 `tf.global_variables_initializer()` 已经被调用。\n",
    "\n",
    "注意：不需要返回任何内容。该函数只是用来优化神经网络。\n"
   ]
  },
  {
   "cell_type": "code",
   "execution_count": 122,
   "metadata": {},
   "outputs": [
    {
     "name": "stdout",
     "output_type": "stream",
     "text": [
      "Tests Passed\n"
     ]
    }
   ],
   "source": [
    "def train_neural_network(session, optimizer, keep_probability, feature_batch, label_batch):\n",
    "    \"\"\"\n",
    "    Optimize the session on a batch of images and labels\n",
    "    : session: Current TensorFlow session\n",
    "    : optimizer: TensorFlow optimizer function\n",
    "    : keep_probability: keep probability\n",
    "    : feature_batch: Batch of Numpy image data\n",
    "    : label_batch: Batch of Numpy label data\n",
    "    \"\"\"\n",
    "    # TODO: Implement Function\n",
    "    session.run(optimizer, feed_dict={x: feature_batch, y: label_batch, keep_prob: keep_probability})\n",
    "\n",
    "\n",
    "\"\"\"\n",
    "DON'T MODIFY ANYTHING IN THIS CELL THAT IS BELOW THIS LINE\n",
    "\"\"\"\n",
    "tests.test_train_nn(train_neural_network)"
   ]
  },
  {
   "cell_type": "markdown",
   "metadata": {},
   "source": [
    "### 显示数据\n",
    "\n",
    "实现函数 `print_stats` 以输出损失和验证准确率。使用全局变量 `valid_features` 和 `valid_labels` 计算验证准确率。使用保留率 `1.0` 计算损失和验证准确率（loss and validation accuracy）。\n"
   ]
  },
  {
   "cell_type": "code",
   "execution_count": 123,
   "metadata": {},
   "outputs": [],
   "source": [
    "def print_stats(session, feature_batch, label_batch, cost, accuracy):\n",
    "    \"\"\"\n",
    "    Print information about loss and validation accuracy\n",
    "    : session: Current TensorFlow session\n",
    "    : feature_batch: Batch of Numpy image data\n",
    "    : label_batch: Batch of Numpy label data\n",
    "    : cost: TensorFlow cost function\n",
    "    : accuracy: TensorFlow accuracy function\n",
    "    \"\"\"\n",
    "    # TODO: Implement Function\n",
    "    global valid_features, valid_labels\n",
    "    cost = session.run(cost, feed_dict={x: feature_batch, y: label_batch, keep_prob: 1.0})\n",
    "    accuracy = session.run(accuracy, feed_dict={x: valid_features, y: valid_labels, keep_prob: 1.0})\n",
    "\n",
    "    print('Cost = {0} - Validation Accuracy = {1}'.format(cost, accuracy))\n",
    "        "
   ]
  },
  {
   "cell_type": "markdown",
   "metadata": {},
   "source": [
    "### 超参数\n",
    "\n",
    "调试以下超参数：\n",
    "* 设置 `epochs` 表示神经网络停止学习或开始过拟合的迭代次数\n",
    "* 设置 `batch_size`，表示机器内存允许的部分最大体积。大部分人设为以下常见内存大小：\n",
    "\n",
    " * 64\n",
    " * 128\n",
    " * 256\n",
    " * ...\n",
    "* 设置 `keep_probability` 表示使用丢弃时保留节点的概率"
   ]
  },
  {
   "cell_type": "code",
   "execution_count": 137,
   "metadata": {
    "collapsed": true
   },
   "outputs": [],
   "source": [
    "# TODO: Tune Parameters\n",
    "epochs = 30\n",
    "batch_size = 128\n",
    "keep_probability = 0.5"
   ]
  },
  {
   "cell_type": "markdown",
   "metadata": {},
   "source": [
    "### 在单个 CIFAR-10 部分上训练\n",
    "\n",
    "我们先用单个部分，而不是用所有的 CIFAR-10 批次训练神经网络。这样可以节省时间，并对模型进行迭代，以提高准确率。最终验证准确率达到 50% 或以上之后，在下一部分对所有数据运行模型。\n"
   ]
  },
  {
   "cell_type": "code",
   "execution_count": 138,
   "metadata": {},
   "outputs": [
    {
     "name": "stdout",
     "output_type": "stream",
     "text": [
      "Checking the Training on a Single Batch...\n",
      "Epoch  1, CIFAR-10 Batch 1:  Cost = 2.235090494155884 - Validation Accuracy = 0.22419999539852142\n",
      "Epoch  2, CIFAR-10 Batch 1:  Cost = 2.049368143081665 - Validation Accuracy = 0.321399986743927\n",
      "Epoch  3, CIFAR-10 Batch 1:  Cost = 1.837981939315796 - Validation Accuracy = 0.3758000135421753\n",
      "Epoch  4, CIFAR-10 Batch 1:  Cost = 1.643608808517456 - Validation Accuracy = 0.37380000948905945\n",
      "Epoch  5, CIFAR-10 Batch 1:  Cost = 1.5703535079956055 - Validation Accuracy = 0.4293999969959259\n",
      "Epoch  6, CIFAR-10 Batch 1:  Cost = 1.537123441696167 - Validation Accuracy = 0.4142000079154968\n",
      "Epoch  7, CIFAR-10 Batch 1:  Cost = 1.3414419889450073 - Validation Accuracy = 0.4666000008583069\n",
      "Epoch  8, CIFAR-10 Batch 1:  Cost = 1.3149007558822632 - Validation Accuracy = 0.4706000089645386\n",
      "Epoch  9, CIFAR-10 Batch 1:  Cost = 1.1661818027496338 - Validation Accuracy = 0.4821999967098236\n",
      "Epoch 10, CIFAR-10 Batch 1:  Cost = 1.1503183841705322 - Validation Accuracy = 0.48240000009536743\n",
      "Epoch 11, CIFAR-10 Batch 1:  Cost = 1.0740505456924438 - Validation Accuracy = 0.48019999265670776\n",
      "Epoch 12, CIFAR-10 Batch 1:  Cost = 0.9833772778511047 - Validation Accuracy = 0.5\n",
      "Epoch 13, CIFAR-10 Batch 1:  Cost = 0.9215539693832397 - Validation Accuracy = 0.49239999055862427\n",
      "Epoch 14, CIFAR-10 Batch 1:  Cost = 0.9217642545700073 - Validation Accuracy = 0.48019999265670776\n",
      "Epoch 15, CIFAR-10 Batch 1:  Cost = 0.875550389289856 - Validation Accuracy = 0.4772000014781952\n",
      "Epoch 16, CIFAR-10 Batch 1:  Cost = 0.7759355306625366 - Validation Accuracy = 0.49559998512268066\n",
      "Epoch 17, CIFAR-10 Batch 1:  Cost = 0.704522967338562 - Validation Accuracy = 0.5091999769210815\n",
      "Epoch 18, CIFAR-10 Batch 1:  Cost = 0.6884232759475708 - Validation Accuracy = 0.5062000155448914\n",
      "Epoch 19, CIFAR-10 Batch 1:  Cost = 0.6362543702125549 - Validation Accuracy = 0.527999997138977\n",
      "Epoch 20, CIFAR-10 Batch 1:  Cost = 0.5948922634124756 - Validation Accuracy = 0.517799973487854\n",
      "Epoch 21, CIFAR-10 Batch 1:  Cost = 0.6572762727737427 - Validation Accuracy = 0.5054000020027161\n",
      "Epoch 22, CIFAR-10 Batch 1:  Cost = 0.6090249419212341 - Validation Accuracy = 0.5022000074386597\n",
      "Epoch 23, CIFAR-10 Batch 1:  Cost = 0.6163653135299683 - Validation Accuracy = 0.5063999891281128\n",
      "Epoch 24, CIFAR-10 Batch 1:  Cost = 0.5471377372741699 - Validation Accuracy = 0.5407999753952026\n",
      "Epoch 25, CIFAR-10 Batch 1:  Cost = 0.47561460733413696 - Validation Accuracy = 0.5267999768257141\n",
      "Epoch 26, CIFAR-10 Batch 1:  Cost = 0.5002561807632446 - Validation Accuracy = 0.520799994468689\n",
      "Epoch 27, CIFAR-10 Batch 1:  Cost = 0.43739643692970276 - Validation Accuracy = 0.524399995803833\n",
      "Epoch 28, CIFAR-10 Batch 1:  Cost = 0.4560757279396057 - Validation Accuracy = 0.5135999917984009\n",
      "Epoch 29, CIFAR-10 Batch 1:  Cost = 0.39407938718795776 - Validation Accuracy = 0.5228000283241272\n",
      "Epoch 30, CIFAR-10 Batch 1:  Cost = 0.40799981355667114 - Validation Accuracy = 0.527400016784668\n"
     ]
    }
   ],
   "source": [
    "\"\"\"\n",
    "DON'T MODIFY ANYTHING IN THIS CELL\n",
    "\"\"\"\n",
    "print('Checking the Training on a Single Batch...')\n",
    "with tf.Session() as sess:\n",
    "    # Initializing the variables\n",
    "    sess.run(tf.global_variables_initializer())\n",
    "    \n",
    "    # Training cycle\n",
    "    for epoch in range(epochs):\n",
    "        batch_i = 1\n",
    "        for batch_features, batch_labels in helper.load_preprocess_training_batch(batch_i, batch_size):\n",
    "            train_neural_network(sess, optimizer, keep_probability, batch_features, batch_labels)\n",
    "        print('Epoch {:>2}, CIFAR-10 Batch {}:  '.format(epoch + 1, batch_i), end='')\n",
    "        print_stats(sess, batch_features, batch_labels, cost, accuracy)"
   ]
  },
  {
   "cell_type": "markdown",
   "metadata": {},
   "source": [
    "### 完全训练模型\n",
    "\n",
    "现在，单个 CIFAR-10 部分的准确率已经不错了，试试所有五个部分吧。"
   ]
  },
  {
   "cell_type": "code",
   "execution_count": 139,
   "metadata": {},
   "outputs": [
    {
     "name": "stdout",
     "output_type": "stream",
     "text": [
      "Training...\n",
      "Epoch  1, CIFAR-10 Batch 1:  Cost = 2.2692391872406006 - Validation Accuracy = 0.18080000579357147\n",
      "Epoch  1, CIFAR-10 Batch 2:  Cost = 2.2534759044647217 - Validation Accuracy = 0.20759999752044678\n",
      "Epoch  1, CIFAR-10 Batch 3:  Cost = 2.1601338386535645 - Validation Accuracy = 0.2142000049352646\n",
      "Epoch  1, CIFAR-10 Batch 4:  Cost = 2.0069174766540527 - Validation Accuracy = 0.22540000081062317\n",
      "Epoch  1, CIFAR-10 Batch 5:  Cost = 1.855433464050293 - Validation Accuracy = 0.266400009393692\n",
      "Epoch  2, CIFAR-10 Batch 1:  Cost = 1.9410518407821655 - Validation Accuracy = 0.3075999915599823\n",
      "Epoch  2, CIFAR-10 Batch 2:  Cost = 1.8600410223007202 - Validation Accuracy = 0.35899999737739563\n",
      "Epoch  2, CIFAR-10 Batch 3:  Cost = 1.6329971551895142 - Validation Accuracy = 0.38839998841285706\n",
      "Epoch  2, CIFAR-10 Batch 4:  Cost = 1.6233813762664795 - Validation Accuracy = 0.4002000093460083\n",
      "Epoch  2, CIFAR-10 Batch 5:  Cost = 1.4914494752883911 - Validation Accuracy = 0.43320000171661377\n",
      "Epoch  3, CIFAR-10 Batch 1:  Cost = 1.7650772333145142 - Validation Accuracy = 0.4453999996185303\n",
      "Epoch  3, CIFAR-10 Batch 2:  Cost = 1.753483772277832 - Validation Accuracy = 0.43140000104904175\n",
      "Epoch  3, CIFAR-10 Batch 3:  Cost = 1.3968565464019775 - Validation Accuracy = 0.4602000117301941\n",
      "Epoch  3, CIFAR-10 Batch 4:  Cost = 1.4927167892456055 - Validation Accuracy = 0.47279998660087585\n",
      "Epoch  3, CIFAR-10 Batch 5:  Cost = 1.330636978149414 - Validation Accuracy = 0.47839999198913574\n",
      "Epoch  4, CIFAR-10 Batch 1:  Cost = 1.411108374595642 - Validation Accuracy = 0.46380001306533813\n",
      "Epoch  4, CIFAR-10 Batch 2:  Cost = 1.45782470703125 - Validation Accuracy = 0.5135999917984009\n",
      "Epoch  4, CIFAR-10 Batch 3:  Cost = 1.2610185146331787 - Validation Accuracy = 0.5113999843597412\n",
      "Epoch  4, CIFAR-10 Batch 4:  Cost = 1.4403460025787354 - Validation Accuracy = 0.504800021648407\n",
      "Epoch  4, CIFAR-10 Batch 5:  Cost = 1.2027748823165894 - Validation Accuracy = 0.524399995803833\n",
      "Epoch  5, CIFAR-10 Batch 1:  Cost = 1.185394048690796 - Validation Accuracy = 0.4828000068664551\n",
      "Epoch  5, CIFAR-10 Batch 2:  Cost = 1.393467903137207 - Validation Accuracy = 0.5379999876022339\n",
      "Epoch  5, CIFAR-10 Batch 3:  Cost = 1.1733442544937134 - Validation Accuracy = 0.545799970626831\n",
      "Epoch  5, CIFAR-10 Batch 4:  Cost = 1.3164865970611572 - Validation Accuracy = 0.5519999861717224\n",
      "Epoch  5, CIFAR-10 Batch 5:  Cost = 1.1350432634353638 - Validation Accuracy = 0.5454000234603882\n",
      "Epoch  6, CIFAR-10 Batch 1:  Cost = 1.1204116344451904 - Validation Accuracy = 0.5532000064849854\n",
      "Epoch  6, CIFAR-10 Batch 2:  Cost = 1.234544277191162 - Validation Accuracy = 0.557200014591217\n",
      "Epoch  6, CIFAR-10 Batch 3:  Cost = 1.0873628854751587 - Validation Accuracy = 0.5559999942779541\n",
      "Epoch  6, CIFAR-10 Batch 4:  Cost = 1.230730414390564 - Validation Accuracy = 0.5555999875068665\n",
      "Epoch  6, CIFAR-10 Batch 5:  Cost = 1.1411341428756714 - Validation Accuracy = 0.5335999727249146\n",
      "Epoch  7, CIFAR-10 Batch 1:  Cost = 1.0611202716827393 - Validation Accuracy = 0.557200014591217\n",
      "Epoch  7, CIFAR-10 Batch 2:  Cost = 1.081261396408081 - Validation Accuracy = 0.5870000123977661\n",
      "Epoch  7, CIFAR-10 Batch 3:  Cost = 1.0388962030410767 - Validation Accuracy = 0.5795999765396118\n",
      "Epoch  7, CIFAR-10 Batch 4:  Cost = 1.179478406906128 - Validation Accuracy = 0.5690000057220459\n",
      "Epoch  7, CIFAR-10 Batch 5:  Cost = 0.998822033405304 - Validation Accuracy = 0.5878000259399414\n",
      "Epoch  8, CIFAR-10 Batch 1:  Cost = 0.9841980934143066 - Validation Accuracy = 0.593999981880188\n",
      "Epoch  8, CIFAR-10 Batch 2:  Cost = 1.1040135622024536 - Validation Accuracy = 0.5874000191688538\n",
      "Epoch  8, CIFAR-10 Batch 3:  Cost = 0.9776268005371094 - Validation Accuracy = 0.5978000164031982\n",
      "Epoch  8, CIFAR-10 Batch 4:  Cost = 1.1595184803009033 - Validation Accuracy = 0.604200005531311\n",
      "Epoch  8, CIFAR-10 Batch 5:  Cost = 0.9401857256889343 - Validation Accuracy = 0.5932000279426575\n",
      "Epoch  9, CIFAR-10 Batch 1:  Cost = 0.8898685574531555 - Validation Accuracy = 0.5906000137329102\n",
      "Epoch  9, CIFAR-10 Batch 2:  Cost = 0.9429739117622375 - Validation Accuracy = 0.6065999865531921\n",
      "Epoch  9, CIFAR-10 Batch 3:  Cost = 0.9621008038520813 - Validation Accuracy = 0.5942000150680542\n",
      "Epoch  9, CIFAR-10 Batch 4:  Cost = 1.0641411542892456 - Validation Accuracy = 0.6021999716758728\n",
      "Epoch  9, CIFAR-10 Batch 5:  Cost = 0.8449581861495972 - Validation Accuracy = 0.6003999710083008\n",
      "Epoch 10, CIFAR-10 Batch 1:  Cost = 0.8439232110977173 - Validation Accuracy = 0.5942000150680542\n",
      "Epoch 10, CIFAR-10 Batch 2:  Cost = 0.9547439813613892 - Validation Accuracy = 0.6182000041007996\n",
      "Epoch 10, CIFAR-10 Batch 3:  Cost = 0.9533220529556274 - Validation Accuracy = 0.6096000075340271\n",
      "Epoch 10, CIFAR-10 Batch 4:  Cost = 1.0050896406173706 - Validation Accuracy = 0.6037999987602234\n",
      "Epoch 10, CIFAR-10 Batch 5:  Cost = 0.8157345056533813 - Validation Accuracy = 0.621999979019165\n",
      "Epoch 11, CIFAR-10 Batch 1:  Cost = 0.8391023874282837 - Validation Accuracy = 0.5866000056266785\n",
      "Epoch 11, CIFAR-10 Batch 2:  Cost = 0.8189922571182251 - Validation Accuracy = 0.6215999722480774\n",
      "Epoch 11, CIFAR-10 Batch 3:  Cost = 0.8261072039604187 - Validation Accuracy = 0.6101999878883362\n",
      "Epoch 11, CIFAR-10 Batch 4:  Cost = 0.8875630497932434 - Validation Accuracy = 0.6118000149726868\n",
      "Epoch 11, CIFAR-10 Batch 5:  Cost = 0.6620210409164429 - Validation Accuracy = 0.6258000135421753\n",
      "Epoch 12, CIFAR-10 Batch 1:  Cost = 0.7552967071533203 - Validation Accuracy = 0.6037999987602234\n",
      "Epoch 12, CIFAR-10 Batch 2:  Cost = 0.6816834807395935 - Validation Accuracy = 0.6176000237464905\n",
      "Epoch 12, CIFAR-10 Batch 3:  Cost = 0.858489990234375 - Validation Accuracy = 0.605400025844574\n",
      "Epoch 12, CIFAR-10 Batch 4:  Cost = 0.8357372283935547 - Validation Accuracy = 0.6263999938964844\n",
      "Epoch 12, CIFAR-10 Batch 5:  Cost = 0.6381214261054993 - Validation Accuracy = 0.6254000067710876\n",
      "Epoch 13, CIFAR-10 Batch 1:  Cost = 0.6861292123794556 - Validation Accuracy = 0.6230000257492065\n",
      "Epoch 13, CIFAR-10 Batch 2:  Cost = 0.6561282873153687 - Validation Accuracy = 0.625\n",
      "Epoch 13, CIFAR-10 Batch 3:  Cost = 0.6892004609107971 - Validation Accuracy = 0.6140000224113464\n",
      "Epoch 13, CIFAR-10 Batch 4:  Cost = 0.7720745801925659 - Validation Accuracy = 0.621999979019165\n",
      "Epoch 13, CIFAR-10 Batch 5:  Cost = 0.5653601288795471 - Validation Accuracy = 0.6341999769210815\n",
      "Epoch 14, CIFAR-10 Batch 1:  Cost = 0.6702396273612976 - Validation Accuracy = 0.6371999979019165\n",
      "Epoch 14, CIFAR-10 Batch 2:  Cost = 0.6403937935829163 - Validation Accuracy = 0.6323999762535095\n",
      "Epoch 14, CIFAR-10 Batch 3:  Cost = 0.6537865400314331 - Validation Accuracy = 0.6248000264167786\n",
      "Epoch 14, CIFAR-10 Batch 4:  Cost = 0.7962557077407837 - Validation Accuracy = 0.6255999803543091\n",
      "Epoch 14, CIFAR-10 Batch 5:  Cost = 0.5225979089736938 - Validation Accuracy = 0.6413999795913696\n",
      "Epoch 15, CIFAR-10 Batch 1:  Cost = 0.6754151582717896 - Validation Accuracy = 0.6241999864578247\n",
      "Epoch 15, CIFAR-10 Batch 2:  Cost = 0.643226146697998 - Validation Accuracy = 0.6367999911308289\n",
      "Epoch 15, CIFAR-10 Batch 3:  Cost = 0.7422637343406677 - Validation Accuracy = 0.6158000230789185\n",
      "Epoch 15, CIFAR-10 Batch 4:  Cost = 0.6426717638969421 - Validation Accuracy = 0.6341999769210815\n",
      "Epoch 15, CIFAR-10 Batch 5:  Cost = 0.5148159861564636 - Validation Accuracy = 0.6442000269889832\n",
      "Epoch 16, CIFAR-10 Batch 1:  Cost = 0.5597823858261108 - Validation Accuracy = 0.6425999999046326\n",
      "Epoch 16, CIFAR-10 Batch 2:  Cost = 0.5675530433654785 - Validation Accuracy = 0.6521999835968018\n",
      "Epoch 16, CIFAR-10 Batch 3:  Cost = 0.5826942324638367 - Validation Accuracy = 0.6226000189781189\n",
      "Epoch 16, CIFAR-10 Batch 4:  Cost = 0.5592119097709656 - Validation Accuracy = 0.6452000141143799\n",
      "Epoch 16, CIFAR-10 Batch 5:  Cost = 0.4227486550807953 - Validation Accuracy = 0.6629999876022339\n",
      "Epoch 17, CIFAR-10 Batch 1:  Cost = 0.5484260320663452 - Validation Accuracy = 0.6444000005722046\n",
      "Epoch 17, CIFAR-10 Batch 2:  Cost = 0.5260574817657471 - Validation Accuracy = 0.6579999923706055\n",
      "Epoch 17, CIFAR-10 Batch 3:  Cost = 0.4477207660675049 - Validation Accuracy = 0.6366000175476074\n",
      "Epoch 17, CIFAR-10 Batch 4:  Cost = 0.5884248614311218 - Validation Accuracy = 0.6474000215530396\n"
     ]
    },
    {
     "name": "stdout",
     "output_type": "stream",
     "text": [
      "Epoch 17, CIFAR-10 Batch 5:  Cost = 0.41998130083084106 - Validation Accuracy = 0.6538000106811523\n",
      "Epoch 18, CIFAR-10 Batch 1:  Cost = 0.4877866208553314 - Validation Accuracy = 0.6340000033378601\n",
      "Epoch 18, CIFAR-10 Batch 2:  Cost = 0.4827580451965332 - Validation Accuracy = 0.6588000059127808\n",
      "Epoch 18, CIFAR-10 Batch 3:  Cost = 0.4509616792201996 - Validation Accuracy = 0.6272000074386597\n",
      "Epoch 18, CIFAR-10 Batch 4:  Cost = 0.5265696048736572 - Validation Accuracy = 0.6521999835968018\n",
      "Epoch 18, CIFAR-10 Batch 5:  Cost = 0.4128255844116211 - Validation Accuracy = 0.6531999707221985\n",
      "Epoch 19, CIFAR-10 Batch 1:  Cost = 0.5230463743209839 - Validation Accuracy = 0.6453999876976013\n",
      "Epoch 19, CIFAR-10 Batch 2:  Cost = 0.5087499618530273 - Validation Accuracy = 0.6611999869346619\n",
      "Epoch 19, CIFAR-10 Batch 3:  Cost = 0.44516506791114807 - Validation Accuracy = 0.6489999890327454\n",
      "Epoch 19, CIFAR-10 Batch 4:  Cost = 0.5736701488494873 - Validation Accuracy = 0.6453999876976013\n",
      "Epoch 19, CIFAR-10 Batch 5:  Cost = 0.4042430520057678 - Validation Accuracy = 0.6388000249862671\n",
      "Epoch 20, CIFAR-10 Batch 1:  Cost = 0.4832250475883484 - Validation Accuracy = 0.6395999789237976\n",
      "Epoch 20, CIFAR-10 Batch 2:  Cost = 0.442188024520874 - Validation Accuracy = 0.6593999862670898\n",
      "Epoch 20, CIFAR-10 Batch 3:  Cost = 0.4134606420993805 - Validation Accuracy = 0.6444000005722046\n",
      "Epoch 20, CIFAR-10 Batch 4:  Cost = 0.478330135345459 - Validation Accuracy = 0.6592000126838684\n",
      "Epoch 20, CIFAR-10 Batch 5:  Cost = 0.4123506546020508 - Validation Accuracy = 0.6371999979019165\n",
      "Epoch 21, CIFAR-10 Batch 1:  Cost = 0.4622417092323303 - Validation Accuracy = 0.6601999998092651\n",
      "Epoch 21, CIFAR-10 Batch 2:  Cost = 0.44451627135276794 - Validation Accuracy = 0.6725999712944031\n",
      "Epoch 21, CIFAR-10 Batch 3:  Cost = 0.508857786655426 - Validation Accuracy = 0.6381999850273132\n",
      "Epoch 21, CIFAR-10 Batch 4:  Cost = 0.5083892345428467 - Validation Accuracy = 0.6643999814987183\n",
      "Epoch 21, CIFAR-10 Batch 5:  Cost = 0.3645420968532562 - Validation Accuracy = 0.6624000072479248\n",
      "Epoch 22, CIFAR-10 Batch 1:  Cost = 0.433413565158844 - Validation Accuracy = 0.6611999869346619\n",
      "Epoch 22, CIFAR-10 Batch 2:  Cost = 0.46376723051071167 - Validation Accuracy = 0.6679999828338623\n",
      "Epoch 22, CIFAR-10 Batch 3:  Cost = 0.36655357480049133 - Validation Accuracy = 0.649399995803833\n",
      "Epoch 22, CIFAR-10 Batch 4:  Cost = 0.4748358726501465 - Validation Accuracy = 0.6690000295639038\n",
      "Epoch 22, CIFAR-10 Batch 5:  Cost = 0.3152708411216736 - Validation Accuracy = 0.6669999957084656\n",
      "Epoch 23, CIFAR-10 Batch 1:  Cost = 0.4290396571159363 - Validation Accuracy = 0.6651999950408936\n",
      "Epoch 23, CIFAR-10 Batch 2:  Cost = 0.46466368436813354 - Validation Accuracy = 0.6674000024795532\n",
      "Epoch 23, CIFAR-10 Batch 3:  Cost = 0.3250281810760498 - Validation Accuracy = 0.6642000079154968\n",
      "Epoch 23, CIFAR-10 Batch 4:  Cost = 0.44743338227272034 - Validation Accuracy = 0.6565999984741211\n",
      "Epoch 23, CIFAR-10 Batch 5:  Cost = 0.2847904562950134 - Validation Accuracy = 0.671999990940094\n",
      "Epoch 24, CIFAR-10 Batch 1:  Cost = 0.446208655834198 - Validation Accuracy = 0.6714000105857849\n",
      "Epoch 24, CIFAR-10 Batch 2:  Cost = 0.4391067624092102 - Validation Accuracy = 0.6679999828338623\n",
      "Epoch 24, CIFAR-10 Batch 3:  Cost = 0.33703261613845825 - Validation Accuracy = 0.6534000039100647\n",
      "Epoch 24, CIFAR-10 Batch 4:  Cost = 0.40664148330688477 - Validation Accuracy = 0.6733999848365784\n",
      "Epoch 24, CIFAR-10 Batch 5:  Cost = 0.3874058723449707 - Validation Accuracy = 0.628000020980835\n",
      "Epoch 25, CIFAR-10 Batch 1:  Cost = 0.4510478973388672 - Validation Accuracy = 0.6660000085830688\n",
      "Epoch 25, CIFAR-10 Batch 2:  Cost = 0.4150070548057556 - Validation Accuracy = 0.6672000288963318\n",
      "Epoch 25, CIFAR-10 Batch 3:  Cost = 0.3121953010559082 - Validation Accuracy = 0.673799991607666\n",
      "Epoch 25, CIFAR-10 Batch 4:  Cost = 0.4403396546840668 - Validation Accuracy = 0.6499999761581421\n",
      "Epoch 25, CIFAR-10 Batch 5:  Cost = 0.32061976194381714 - Validation Accuracy = 0.6570000052452087\n",
      "Epoch 26, CIFAR-10 Batch 1:  Cost = 0.5127356052398682 - Validation Accuracy = 0.6552000045776367\n",
      "Epoch 26, CIFAR-10 Batch 2:  Cost = 0.4207223951816559 - Validation Accuracy = 0.6783999800682068\n",
      "Epoch 26, CIFAR-10 Batch 3:  Cost = 0.3503565788269043 - Validation Accuracy = 0.6740000247955322\n",
      "Epoch 26, CIFAR-10 Batch 4:  Cost = 0.5040673017501831 - Validation Accuracy = 0.6614000201225281\n",
      "Epoch 26, CIFAR-10 Batch 5:  Cost = 0.36025330424308777 - Validation Accuracy = 0.6697999835014343\n",
      "Epoch 27, CIFAR-10 Batch 1:  Cost = 0.4382549226284027 - Validation Accuracy = 0.65420001745224\n",
      "Epoch 27, CIFAR-10 Batch 2:  Cost = 0.4329252243041992 - Validation Accuracy = 0.66839998960495\n",
      "Epoch 27, CIFAR-10 Batch 3:  Cost = 0.27819669246673584 - Validation Accuracy = 0.6711999773979187\n",
      "Epoch 27, CIFAR-10 Batch 4:  Cost = 0.5294941067695618 - Validation Accuracy = 0.6722000241279602\n",
      "Epoch 27, CIFAR-10 Batch 5:  Cost = 0.2933117747306824 - Validation Accuracy = 0.6704000234603882\n",
      "Epoch 28, CIFAR-10 Batch 1:  Cost = 0.38116663694381714 - Validation Accuracy = 0.6425999999046326\n",
      "Epoch 28, CIFAR-10 Batch 2:  Cost = 0.4286675453186035 - Validation Accuracy = 0.6593999862670898\n",
      "Epoch 28, CIFAR-10 Batch 3:  Cost = 0.2957598567008972 - Validation Accuracy = 0.6758000254631042\n",
      "Epoch 28, CIFAR-10 Batch 4:  Cost = 0.3694630265235901 - Validation Accuracy = 0.6761999726295471\n",
      "Epoch 28, CIFAR-10 Batch 5:  Cost = 0.3394162654876709 - Validation Accuracy = 0.6492000222206116\n",
      "Epoch 29, CIFAR-10 Batch 1:  Cost = 0.3973451852798462 - Validation Accuracy = 0.6579999923706055\n",
      "Epoch 29, CIFAR-10 Batch 2:  Cost = 0.3530268371105194 - Validation Accuracy = 0.6949999928474426\n",
      "Epoch 29, CIFAR-10 Batch 3:  Cost = 0.27366161346435547 - Validation Accuracy = 0.6840000152587891\n",
      "Epoch 29, CIFAR-10 Batch 4:  Cost = 0.36875563859939575 - Validation Accuracy = 0.673799991607666\n",
      "Epoch 29, CIFAR-10 Batch 5:  Cost = 0.31164121627807617 - Validation Accuracy = 0.6772000193595886\n",
      "Epoch 30, CIFAR-10 Batch 1:  Cost = 0.3631814420223236 - Validation Accuracy = 0.6406000256538391\n",
      "Epoch 30, CIFAR-10 Batch 2:  Cost = 0.39593663811683655 - Validation Accuracy = 0.6809999942779541\n",
      "Epoch 30, CIFAR-10 Batch 3:  Cost = 0.2439976930618286 - Validation Accuracy = 0.6818000078201294\n",
      "Epoch 30, CIFAR-10 Batch 4:  Cost = 0.35169172286987305 - Validation Accuracy = 0.6657999753952026\n",
      "Epoch 30, CIFAR-10 Batch 5:  Cost = 0.28927746415138245 - Validation Accuracy = 0.675599992275238\n"
     ]
    }
   ],
   "source": [
    "\"\"\"\n",
    "DON'T MODIFY ANYTHING IN THIS CELL\n",
    "\"\"\"\n",
    "save_model_path = './image_classification'\n",
    "\n",
    "print('Training...')\n",
    "with tf.Session() as sess:\n",
    "    # Initializing the variables\n",
    "    sess.run(tf.global_variables_initializer())\n",
    "    \n",
    "    # Training cycle\n",
    "    for epoch in range(epochs):\n",
    "        # Loop over all batches\n",
    "        n_batches = 5\n",
    "        for batch_i in range(1, n_batches + 1):\n",
    "            for batch_features, batch_labels in helper.load_preprocess_training_batch(batch_i, batch_size):\n",
    "                train_neural_network(sess, optimizer, keep_probability, batch_features, batch_labels)\n",
    "            print('Epoch {:>2}, CIFAR-10 Batch {}:  '.format(epoch + 1, batch_i), end='')\n",
    "            print_stats(sess, batch_features, batch_labels, cost, accuracy)\n",
    "            \n",
    "    # Save Model\n",
    "    saver = tf.train.Saver()\n",
    "    save_path = saver.save(sess, save_model_path)"
   ]
  },
  {
   "cell_type": "markdown",
   "metadata": {},
   "source": [
    "# 检查点\n",
    "\n",
    "模型已保存到本地。\n",
    "\n",
    "## 测试模型\n",
    "\n",
    "利用测试数据集测试你的模型。这将是最终的准确率。你的准确率应该高于 50%。如果没达到，请继续调整模型结构和参数。"
   ]
  },
  {
   "cell_type": "code",
   "execution_count": 141,
   "metadata": {},
   "outputs": [
    {
     "name": "stdout",
     "output_type": "stream",
     "text": [
      "INFO:tensorflow:Restoring parameters from ./image_classification\n",
      "Testing Accuracy: 0.6714794303797469\n",
      "\n"
     ]
    },
    {
     "data": {
      "image/png": "[encoded data removed]",
      "text/plain": [
       "<matplotlib.figure.Figure at 0x1171c7438>"
      ]
     },
     "metadata": {
      "image/png": {
       "height": 319,
       "width": 355
      }
     },
     "output_type": "display_data"
    }
   ],
   "source": [
    "\"\"\"\n",
    "DON'T MODIFY ANYTHING IN THIS CELL\n",
    "\"\"\"\n",
    "%matplotlib inline\n",
    "%config InlineBackend.figure_format = 'retina'\n",
    "\n",
    "import tensorflow as tf\n",
    "import pickle\n",
    "import helper\n",
    "import random\n",
    "\n",
    "# Set batch size if not already set\n",
    "try:\n",
    "    if batch_size:\n",
    "        pass\n",
    "except NameError:\n",
    "    batch_size = 64\n",
    "\n",
    "save_model_path = './image_classification'\n",
    "n_samples = 4\n",
    "top_n_predictions = 3\n",
    "\n",
    "def test_model():\n",
    "    \"\"\"\n",
    "    Test the saved model against the test dataset\n",
    "    \"\"\"\n",
    "\n",
    "    test_features, test_labels = pickle.load(open('preprocess_test.p', mode='rb'))\n",
    "    loaded_graph = tf.Graph()\n",
    "\n",
    "    with tf.Session(graph=loaded_graph) as sess:\n",
    "        # Load model\n",
    "        loader = tf.train.import_meta_graph(save_model_path + '.meta')\n",
    "        loader.restore(sess, save_model_path)\n",
    "\n",
    "        # Get Tensors from loaded model\n",
    "        loaded_x = loaded_graph.get_tensor_by_name('x:0')\n",
    "        loaded_y = loaded_graph.get_tensor_by_name('y:0')\n",
    "        loaded_keep_prob = loaded_graph.get_tensor_by_name('keep_prob:0')\n",
    "        loaded_logits = loaded_graph.get_tensor_by_name('logits:0')\n",
    "        loaded_acc = loaded_graph.get_tensor_by_name('accuracy:0')\n",
    "        \n",
    "        # Get accuracy in batches for memory limitations\n",
    "        test_batch_acc_total = 0\n",
    "        test_batch_count = 0\n",
    "        \n",
    "        for test_feature_batch, test_label_batch in helper.batch_features_labels(test_features, test_labels, batch_size):\n",
    "            test_batch_acc_total += sess.run(\n",
    "                loaded_acc,\n",
    "                feed_dict={loaded_x: test_feature_batch, loaded_y: test_label_batch, loaded_keep_prob: 1.0})\n",
    "            test_batch_count += 1\n",
    "\n",
    "        print('Testing Accuracy: {}\\n'.format(test_batch_acc_total/test_batch_count))\n",
    "\n",
    "        # Print Random Samples\n",
    "        random_test_features, random_test_labels = tuple(zip(*random.sample(list(zip(test_features, test_labels)), n_samples)))\n",
    "        random_test_predictions = sess.run(\n",
    "            tf.nn.top_k(tf.nn.softmax(loaded_logits), top_n_predictions),\n",
    "            feed_dict={loaded_x: random_test_features, loaded_y: random_test_labels, loaded_keep_prob: 1.0})\n",
    "        helper.display_image_predictions(random_test_features, random_test_labels, random_test_predictions)\n",
    "\n",
    "\n",
    "test_model()"
   ]
  },
  {
   "cell_type": "markdown",
   "metadata": {},
   "source": [
    "## 为何准确率只有50-80%？\n",
    "\n",
    "你可能想问，为何准确率不能更高了？首先，对于简单的 CNN 网络来说，50% 已经不低了。纯粹猜测的准确率为10%。但是，你可能注意到有人的准确率[远远超过 80%](http://rodrigob.github.io/are_we_there_yet/build/classification_datasets_results.html#43494641522d3130)。这是因为我们还没有介绍所有的神经网络知识。我们还需要掌握一些其他技巧。\n",
    "\n",
    "## 提交项目\n",
    "\n",
    "提交项目时，确保先运行所有单元，然后再保存记事本。将 notebook 文件另存为“dlnd_image_classification.ipynb”，再在目录 \"File\" -> \"Download as\" 另存为 HTML 格式。请在提交的项目中包含 “helper.py” 和 “problem_unittests.py” 文件。\n"
   ]
  }
 ],
 "metadata": {
  "kernelspec": {
   "display_name": "Python 3",
   "language": "python",
   "name": "python3"
  },
  "language_info": {
   "codemirror_mode": {
    "name": "ipython",
    "version": 3
   },
   "file_extension": ".py",
   "mimetype": "text/x-python",
   "name": "python",
   "nbconvert_exporter": "python",
   "pygments_lexer": "ipython3",
   "version": "3.6.2"
  }
 },
 "nbformat": 4,
 "nbformat_minor": 1
}
