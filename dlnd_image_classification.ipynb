{
 "cells": [
  {
   "cell_type": "markdown",
   "metadata": {
    "collapsed": true
   },
   "source": [
    "# 图像分类\n",
    "\n",
    "在此项目中，你将对 [CIFAR-10 数据集](https://www.cs.toronto.edu/~kriz/cifar.html) 中的图片进行分类。该数据集包含飞机、猫狗和其他物体。你需要预处理这些图片，然后用所有样本训练一个卷积神经网络。图片需要标准化（normalized），标签需要采用 one-hot 编码。你需要应用所学的知识构建卷积的、最大池化（max pooling）、丢弃（dropout）和完全连接（fully connected）的层。最后，你需要在样本图片上看到神经网络的预测结果。\n",
    "\n",
    "\n",
    "## 获取数据\n",
    "\n",
    "请运行以下单元，以下载 [CIFAR-10 数据集（Python版）](https://www.cs.toronto.edu/~kriz/cifar-10-python.tar.gz)。\n"
   ]
  },
  {
   "cell_type": "code",
   "execution_count": 67,
   "metadata": {},
   "outputs": [
    {
     "name": "stdout",
     "output_type": "stream",
     "text": [
      "All files found!\n"
     ]
    }
   ],
   "source": [
    "\"\"\"\n",
    "DON'T MODIFY ANYTHING IN THIS CELL THAT IS BELOW THIS LINE\n",
    "\"\"\"\n",
    "from urllib.request import urlretrieve\n",
    "from os.path import isfile, isdir\n",
    "from tqdm import tqdm\n",
    "import problem_unittests as tests\n",
    "import tarfile\n",
    "\n",
    "cifar10_dataset_folder_path = 'cifar-10-batches-py'\n",
    "\n",
    "# Use Floyd's cifar-10 dataset if present\n",
    "floyd_cifar10_location = '/input/cifar-10/python.tar.gz'\n",
    "if isfile(floyd_cifar10_location):\n",
    "    tar_gz_path = floyd_cifar10_location\n",
    "else:\n",
    "    tar_gz_path = 'cifar-10-python.tar.gz'\n",
    "\n",
    "class DLProgress(tqdm):\n",
    "    last_block = 0\n",
    "\n",
    "    def hook(self, block_num=1, block_size=1, total_size=None):\n",
    "        self.total = total_size\n",
    "        self.update((block_num - self.last_block) * block_size)\n",
    "        self.last_block = block_num\n",
    "\n",
    "if not isfile(tar_gz_path):\n",
    "    with DLProgress(unit='B', unit_scale=True, miniters=1, desc='CIFAR-10 Dataset') as pbar:\n",
    "        urlretrieve(\n",
    "            'https://www.cs.toronto.edu/~kriz/cifar-10-python.tar.gz',\n",
    "            tar_gz_path,\n",
    "            pbar.hook)\n",
    "\n",
    "if not isdir(cifar10_dataset_folder_path):\n",
    "    with tarfile.open(tar_gz_path) as tar:\n",
    "        tar.extractall()\n",
    "        tar.close()\n",
    "\n",
    "\n",
    "tests.test_folder_path(cifar10_dataset_folder_path)"
   ]
  },
  {
   "cell_type": "markdown",
   "metadata": {},
   "source": [
    "## 探索数据\n",
    "\n",
    "该数据集分成了几部分／批次（batches），以免你的机器在计算时内存不足。CIFAR-10 数据集包含 5 个部分，名称分别为 `data_batch_1`、`data_batch_2`，以此类推。每个部分都包含以下某个类别的标签和图片：\n",
    "\n",
    "* 飞机\n",
    "* 汽车\n",
    "* 鸟类\n",
    "* 猫\n",
    "* 鹿\n",
    "* 狗\n",
    "* 青蛙\n",
    "* 马\n",
    "* 船只\n",
    "* 卡车\n",
    "\n",
    "了解数据集也是对数据进行预测的必经步骤。你可以通过更改 `batch_id` 和 `sample_id` 探索下面的代码单元。`batch_id` 是数据集一个部分的 ID（1 到 5）。`sample_id` 是该部分中图片和标签对（label pair）的 ID。\n",
    "\n",
    "问问你自己：“可能的标签有哪些？”、“图片数据的值范围是多少？”、“标签是按顺序排列，还是随机排列的？”。思考类似的问题，有助于你预处理数据，并使预测结果更准确。\n"
   ]
  },
  {
   "cell_type": "code",
   "execution_count": 68,
   "metadata": {},
   "outputs": [
    {
     "name": "stdout",
     "output_type": "stream",
     "text": [
      "\n",
      "Stats of batch 1:\n",
      "Samples: 10000\n",
      "Label Counts: {0: 1005, 1: 974, 2: 1032, 3: 1016, 4: 999, 5: 937, 6: 1030, 7: 1001, 8: 1025, 9: 981}\n",
      "First 20 Labels: [6, 9, 9, 4, 1, 1, 2, 7, 8, 3, 4, 7, 7, 2, 9, 9, 9, 3, 2, 6]\n",
      "\n",
      "Example of Image 5:\n",
      "Image - Min Value: 0 Max Value: 252\n",
      "Image - Shape: (32, 32, 3)\n",
      "Label - Label Id: 1 Name: automobile\n"
     ]
    },
    {
     "data": {
      "image/png": "[encoded data removed]",
      "text/plain": [
       "<matplotlib.figure.Figure at 0x12edaff98>"
      ]
     },
     "metadata": {
      "image/png": {
       "height": 250,
       "width": 253
      }
     },
     "output_type": "display_data"
    }
   ],
   "source": [
    "%matplotlib inline\n",
    "%config InlineBackend.figure_format = 'retina'\n",
    "\n",
    "import helper\n",
    "import numpy as np\n",
    "\n",
    "# Explore the dataset\n",
    "batch_id = 1\n",
    "sample_id = 5\n",
    "helper.display_stats(cifar10_dataset_folder_path, batch_id, sample_id)"
   ]
  },
  {
   "cell_type": "markdown",
   "metadata": {},
   "source": [
    "## 实现预处理函数\n",
    "\n",
    "### 标准化\n",
    "\n",
    "在下面的单元中，实现 `normalize` 函数，传入图片数据 `x`，并返回标准化 Numpy 数组。值应该在 0 到 1 的范围内（含 0 和 1）。返回对象应该和 `x` 的形状一样。\n"
   ]
  },
  {
   "cell_type": "code",
   "execution_count": 93,
   "metadata": {},
   "outputs": [
    {
     "name": "stdout",
     "output_type": "stream",
     "text": [
      "Tests Passed\n"
     ]
    }
   ],
   "source": [
    "def normalize(x):\n",
    "    \"\"\"\n",
    "    Normalize a list of sample image data in the range of 0 to 1\n",
    "    : x: List of image data.  The image shape is (32, 32, 3)\n",
    "    : return: Numpy array of normalize data\n",
    "    \"\"\"\n",
    "    # TODO: Implement Function\n",
    "    a = 0\n",
    "    b = 1\n",
    "    grayscale_min = 0\n",
    "    grayscale_max = 255\n",
    "    return a + ( ( (x - grayscale_min)*(b - a) )/( grayscale_max - grayscale_min ) )\n",
    "\n",
    "\"\"\"\n",
    "DON'T MODIFY ANYTHING IN THIS CELL THAT IS BELOW THIS LINE\n",
    "\"\"\"\n",
    "tests.test_normalize(normalize)"
   ]
  },
  {
   "cell_type": "markdown",
   "metadata": {},
   "source": [
    "### One-hot 编码\n",
    "\n",
    "和之前的代码单元一样，你将为预处理实现一个函数。这次，你将实现 `one_hot_encode` 函数。输入，也就是 `x`，是一个标签列表。实现该函数，以返回为 one_hot 编码的 Numpy 数组的标签列表。标签的可能值为 0 到 9。每次调用 `one_hot_encode` 时，对于每个值，one_hot 编码函数应该返回相同的编码。确保将编码映射保存到该函数外面。\n",
    "\n",
    "提示：不要重复发明轮子。\n"
   ]
  },
  {
   "cell_type": "code",
   "execution_count": 94,
   "metadata": {},
   "outputs": [
    {
     "name": "stdout",
     "output_type": "stream",
     "text": [
      "Tests Passed\n"
     ]
    }
   ],
   "source": [
    "from sklearn.preprocessing import LabelBinarizer\n",
    "def one_hot_encode(x):\n",
    "    \"\"\"\n",
    "    One hot encode a list of sample labels. Return a one-hot encoded vector for each label.\n",
    "    : x: List of sample Labels\n",
    "    : return: Numpy array of one-hot encoded labels\n",
    "    \"\"\"\n",
    "    # TODO: Implement Function\n",
    "    encoder = LabelBinarizer()\n",
    "    encoder.fit([0,1,2,3,4,5,6,7,8,9])\n",
    "    return encoder.transform(x)\n",
    "\n",
    "\n",
    "\"\"\"\n",
    "DON'T MODIFY ANYTHING IN THIS CELL THAT IS BELOW THIS LINE\n",
    "\"\"\"\n",
    "tests.test_one_hot_encode(one_hot_encode)"
   ]
  },
  {
   "cell_type": "markdown",
   "metadata": {},
   "source": [
    "### 随机化数据\n",
    "\n",
    "之前探索数据时，你已经了解到，样本的顺序是随机的。再随机化一次也不会有什么关系，但是对于这个数据集没有必要。\n"
   ]
  },
  {
   "cell_type": "markdown",
   "metadata": {},
   "source": [
    "## 预处理所有数据并保存\n",
    "\n",
    "运行下方的代码单元，将预处理所有 CIFAR-10 数据，并保存到文件中。下面的代码还使用了 10% 的训练数据，用来验证。\n"
   ]
  },
  {
   "cell_type": "code",
   "execution_count": 95,
   "metadata": {
    "collapsed": true
   },
   "outputs": [],
   "source": [
    "\"\"\"\n",
    "DON'T MODIFY ANYTHING IN THIS CELL\n",
    "\"\"\"\n",
    "# Preprocess Training, Validation, and Testing Data\n",
    "helper.preprocess_and_save_data(cifar10_dataset_folder_path, normalize, one_hot_encode)"
   ]
  },
  {
   "cell_type": "markdown",
   "metadata": {},
   "source": [
    "# 检查点\n",
    "\n",
    "这是你的第一个检查点。如果你什么时候决定再回到该记事本，或需要重新启动该记事本，你可以从这里开始。预处理的数据已保存到本地。\n"
   ]
  },
  {
   "cell_type": "code",
   "execution_count": 96,
   "metadata": {
    "collapsed": true
   },
   "outputs": [],
   "source": [
    "\"\"\"\n",
    "DON'T MODIFY ANYTHING IN THIS CELL\n",
    "\"\"\"\n",
    "import pickle\n",
    "import problem_unittests as tests\n",
    "import helper\n",
    "\n",
    "# Load the Preprocessed Validation data\n",
    "valid_features, valid_labels = pickle.load(open('preprocess_validation.p', mode='rb'))"
   ]
  },
  {
   "cell_type": "markdown",
   "metadata": {},
   "source": [
    "## 构建网络\n",
    "\n",
    "对于该神经网络，你需要将每层都构建为一个函数。你看到的大部分代码都位于函数外面。要更全面地测试你的代码，我们需要你将每层放入一个函数中。这样使我们能够提供更好的反馈，并使用我们的统一测试检测简单的错误，然后再提交项目。\n",
    "\n",
    ">**注意**：如果你觉得每周很难抽出足够的时间学习这门课程，我们为此项目提供了一个小捷径。对于接下来的几个问题，你可以使用 [TensorFlow Layers](https://www.tensorflow.org/api_docs/python/tf/layers) 或 [TensorFlow Layers (contrib)](https://www.tensorflow.org/api_guides/python/contrib.layers) 程序包中的类来构建每个层级，但是“卷积和最大池化层级”部分的层级除外。TF Layers 和 Keras 及 TFLearn 层级类似，因此很容易学会。\n",
    "\n",
    ">但是，如果你想充分利用这门课程，请尝试自己解决所有问题，不使用 TF Layers 程序包中的任何类。你依然可以使用其他程序包中的类，这些类和你在 TF Layers 中的类名称是一样的！例如，你可以使用 TF Neural Network 版本的 `conv2d` 类 [tf.nn.conv2d](https://www.tensorflow.org/api_docs/python/tf/nn/conv2d)，而不是 TF Layers 版本的 `conv2d` 类 [tf.layers.conv2d](https://www.tensorflow.org/api_docs/python/tf/layers/conv2d)。\n",
    "\n",
    "我们开始吧！\n",
    "\n",
    "\n",
    "### 输入\n",
    "\n",
    "神经网络需要读取图片数据、one-hot 编码标签和丢弃保留概率（dropout keep probability）。请实现以下函数：\n",
    "\n",
    "* 实现 `neural_net_image_input`\n",
    " * 返回 [TF Placeholder](https://www.tensorflow.org/api_docs/python/tf/placeholder)\n",
    " * 使用 `image_shape` 设置形状，部分大小设为 `None`\n",
    " * 使用 [TF Placeholder](https://www.tensorflow.org/api_docs/python/tf/placeholder) 中的 TensorFlow `name` 参数对 TensorFlow 占位符 \"x\" 命名\n",
    "* 实现 `neural_net_label_input`\n",
    " * 返回 [TF Placeholder](https://www.tensorflow.org/api_docs/python/tf/placeholder)\n",
    " * 使用 `n_classes` 设置形状，部分大小设为 `None`\n",
    " * 使用 [TF Placeholder](https://www.tensorflow.org/api_docs/python/tf/placeholder) 中的 TensorFlow `name` 参数对 TensorFlow 占位符 \"y\" 命名\n",
    "* 实现 `neural_net_keep_prob_input`\n",
    " * 返回 [TF Placeholder](https://www.tensorflow.org/api_docs/python/tf/placeholder)，用于丢弃保留概率\n",
    " * 使用 [TF Placeholder](https://www.tensorflow.org/api_docs/python/tf/placeholder) 中的 TensorFlow `name` 参数对 TensorFlow 占位符 \"keep_prob\" 命名\n",
    "\n",
    "这些名称将在项目结束时，用于加载保存的模型。\n",
    "\n",
    "注意：TensorFlow 中的 `None` 表示形状可以是动态大小。"
   ]
  },
  {
   "cell_type": "code",
   "execution_count": 97,
   "metadata": {},
   "outputs": [
    {
     "name": "stdout",
     "output_type": "stream",
     "text": [
      "Image Input Tests Passed.\n",
      "Label Input Tests Passed.\n",
      "Keep Prob Tests Passed.\n"
     ]
    }
   ],
   "source": [
    "import tensorflow as tf\n",
    "\n",
    "def neural_net_image_input(image_shape):\n",
    "    \"\"\"\n",
    "    Return a Tensor for a batch of image input\n",
    "    : image_shape: Shape of the images\n",
    "    : return: Tensor for image input.\n",
    "    \"\"\"\n",
    "    # TODO: Implement Function\n",
    "    # height, width, deepth = image_shape\n",
    "    return tf.placeholder(tf.float32, shape=[None, *image_shape], name='x')\n",
    "\n",
    "\n",
    "def neural_net_label_input(n_classes):\n",
    "    \"\"\"\n",
    "    Return a Tensor for a batch of label input\n",
    "    : n_classes: Number of classes\n",
    "    : return: Tensor for label input.\n",
    "    \"\"\"\n",
    "    # TODO: Implement Function\n",
    "    return tf.placeholder(tf.float32, shape=[None, n_classes], name='y')\n",
    "\n",
    "\n",
    "def neural_net_keep_prob_input():\n",
    "    \"\"\"\n",
    "    Return a Tensor for keep probability\n",
    "    : return: Tensor for keep probability.\n",
    "    \"\"\"\n",
    "    # TODO: Implement Function\n",
    "    return tf.placeholder(tf.float32, name='keep_prob')\n",
    "\n",
    "\n",
    "\"\"\"\n",
    "DON'T MODIFY ANYTHING IN THIS CELL THAT IS BELOW THIS LINE\n",
    "\"\"\"\n",
    "tf.reset_default_graph()\n",
    "tests.test_nn_image_inputs(neural_net_image_input)\n",
    "tests.test_nn_label_inputs(neural_net_label_input)\n",
    "tests.test_nn_keep_prob_inputs(neural_net_keep_prob_input)"
   ]
  },
  {
   "cell_type": "markdown",
   "metadata": {},
   "source": [
    "### 卷积和最大池化层\n",
    "\n",
    "卷积层级适合处理图片。对于此代码单元，你应该实现函数 `conv2d_maxpool` 以便应用卷积然后进行最大池化：\n",
    "\n",
    "* 使用 `conv_ksize`、`conv_num_outputs` 和 `x_tensor` 的形状创建权重（weight）和偏置（bias）。\n",
    "* 使用权重和 `conv_strides` 对 `x_tensor` 应用卷积。\n",
    " * 建议使用我们建议的间距（padding），当然也可以使用任何其他间距。\n",
    "* 添加偏置\n",
    "* 向卷积中添加非线性激活（nonlinear activation）\n",
    "* 使用 `pool_ksize` 和 `pool_strides` 应用最大池化\n",
    " * 建议使用我们建议的间距（padding），当然也可以使用任何其他间距。\n",
    "\n",
    "**注意**：对于**此层**，**请勿使用** [TensorFlow Layers](https://www.tensorflow.org/api_docs/python/tf/layers) 或 [TensorFlow Layers (contrib)](https://www.tensorflow.org/api_guides/python/contrib.layers)，但是仍然可以使用 TensorFlow 的 [Neural Network](https://www.tensorflow.org/api_docs/python/tf/nn) 包。对于所有**其他层**，你依然可以使用快捷方法。\n"
   ]
  },
  {
   "cell_type": "code",
   "execution_count": 107,
   "metadata": {},
   "outputs": [
    {
     "name": "stdout",
     "output_type": "stream",
     "text": [
      "Tests Passed\n"
     ]
    }
   ],
   "source": [
    "def conv2d_maxpool(x_tensor, conv_num_outputs, conv_ksize, conv_strides, pool_ksize, pool_strides):\n",
    "    \"\"\"\n",
    "    Apply convolution then max pooling to x_tensor\n",
    "    :param x_tensor: TensorFlow Tensor\n",
    "    :param conv_num_outputs: Number of outputs for the convolutional layer\n",
    "    :param conv_ksize: kernal size 2-D Tuple for the convolutional layer\n",
    "    :param conv_strides: Stride 2-D Tuple for convolution\n",
    "    :param pool_ksize: kernal size 2-D Tuple for pool\n",
    "    :param pool_strides: Stride 2-D Tuple for pool\n",
    "    : return: A tensor that represents convolution and max pooling of x_tensor\n",
    "    \"\"\"\n",
    "    # TODO: Implement Function\n",
    "    input_deepth = x_tensor.get_shape().as_list()[-1]\n",
    "    \n",
    "    filter_height, filter_width = conv_ksize\n",
    "    filter_weights = tf.Variable(tf.truncated_normal((filter_height, filter_width, input_deepth, conv_num_outputs), stddev=0.1))\n",
    "    filter_bias = tf.Variable(tf.zeros(conv_num_outputs))\n",
    "    \n",
    "    # apply conv to x_tensor\n",
    "    conv_height, conv_width = conv_strides\n",
    "    convolution = tf.nn.conv2d(x_tensor, filter_weights, [1, conv_height, conv_width, 1], padding=\"SAME\")\n",
    "    convolution = tf.nn.relu(tf.nn.bias_add(convolution, filter_bias))\n",
    "    \n",
    "    # apply max pool\n",
    "    conv_h, conv_w = pool_ksize\n",
    "    pool_h, pool_w = pool_strides\n",
    "    convolution = tf.nn.max_pool(convolution, [1, conv_h, conv_w, 1], [1, pool_h, pool_w, 1], padding=\"SAME\")\n",
    "    \n",
    "    return convolution \n",
    "\n",
    "\n",
    "\"\"\"\n",
    "DON'T MODIFY ANYTHING IN THIS CELL THAT IS BELOW THIS LINE\n",
    "\"\"\"\n",
    "tests.test_con_pool(conv2d_maxpool)"
   ]
  },
  {
   "cell_type": "markdown",
   "metadata": {},
   "source": [
    "### 扁平化层\n",
    "\n",
    "实现 `flatten` 函数，将 `x_tensor` 的维度从四维张量（4-D tensor）变成二维张量。输出应该是形状（*部分大小（Batch Size）*，*扁平化图片大小（Flattened Image Size）*）。快捷方法：对于此层，你可以使用 [TensorFlow Layers](https://www.tensorflow.org/api_docs/python/tf/layers) 或 [TensorFlow Layers (contrib)](https://www.tensorflow.org/api_guides/python/contrib.layers) 包中的类。如果你想要更大挑战，可以仅使用其他 TensorFlow 程序包。\n"
   ]
  },
  {
   "cell_type": "code",
   "execution_count": 99,
   "metadata": {},
   "outputs": [
    {
     "name": "stdout",
     "output_type": "stream",
     "text": [
      "Tests Passed\n"
     ]
    }
   ],
   "source": [
    "def flatten(x_tensor):\n",
    "    \"\"\"\n",
    "    Flatten x_tensor to (Batch Size, Flattened Image Size)\n",
    "    : x_tensor: A tensor of size (Batch Size, ...), where ... are the image dimensions.\n",
    "    : return: A tensor of size (Batch Size, Flattened Image Size).\n",
    "    \"\"\"\n",
    "    # TODO: Implement Function\n",
    "    return tf.contrib.layers.flatten(x_tensor)\n",
    "\n",
    "\n",
    "\"\"\"\n",
    "DON'T MODIFY ANYTHING IN THIS CELL THAT IS BELOW THIS LINE\n",
    "\"\"\"\n",
    "tests.test_flatten(flatten)"
   ]
  },
  {
   "cell_type": "markdown",
   "metadata": {},
   "source": [
    "### 全连接层\n",
    "\n",
    "实现 `fully_conn` 函数，以向 `x_tensor` 应用完全连接的层级，形状为（*部分大小（Batch Size）*，*num_outputs*）。快捷方法：对于此层，你可以使用 [TensorFlow Layers](https://www.tensorflow.org/api_docs/python/tf/layers) 或 [TensorFlow Layers (contrib)](https://www.tensorflow.org/api_guides/python/contrib.layers) 包中的类。如果你想要更大挑战，可以仅使用其他 TensorFlow 程序包。"
   ]
  },
  {
   "cell_type": "code",
   "execution_count": 108,
   "metadata": {},
   "outputs": [
    {
     "name": "stdout",
     "output_type": "stream",
     "text": [
      "Tests Passed\n"
     ]
    }
   ],
   "source": [
    "def fully_conn(x_tensor, num_outputs):\n",
    "    \"\"\"\n",
    "    Apply a fully connected layer to x_tensor using weight and bias\n",
    "    : x_tensor: A 2-D tensor where the first dimension is batch size.\n",
    "    : num_outputs: The number of output that the new tensor should be.\n",
    "    : return: A 2-D tensor where the second dimension is num_outputs.\n",
    "    \"\"\"\n",
    "    # TODO: Implement Function\n",
    "    return tf.contrib.layers.fully_connected(x_tensor, num_outputs)\n",
    "\n",
    "\n",
    "\"\"\"\n",
    "DON'T MODIFY ANYTHING IN THIS CELL THAT IS BELOW THIS LINE\n",
    "\"\"\"\n",
    "tests.test_fully_conn(fully_conn)"
   ]
  },
  {
   "cell_type": "markdown",
   "metadata": {},
   "source": [
    "### 输出层\n",
    "\n",
    "实现 `output` 函数，向 x_tensor 应用完全连接的层级，形状为（*部分大小（Batch Size）*，*num_outputs*）。快捷方法：对于此层，你可以使用 [TensorFlow Layers](https://www.tensorflow.org/api_docs/python/tf/layers) 或 [TensorFlow Layers (contrib)](https://www.tensorflow.org/api_guides/python/contrib.layers) 包中的类。如果你想要更大挑战，可以仅使用其他 TensorFlow 程序包。\n",
    "\n",
    "**注意**：该层级不应应用 Activation、softmax 或交叉熵（cross entropy）。"
   ]
  },
  {
   "cell_type": "code",
   "execution_count": 109,
   "metadata": {},
   "outputs": [
    {
     "name": "stdout",
     "output_type": "stream",
     "text": [
      "Tests Passed\n"
     ]
    }
   ],
   "source": [
    "def output(x_tensor, num_outputs):\n",
    "    \"\"\"\n",
    "    Apply a output layer to x_tensor using weight and bias\n",
    "    : x_tensor: A 2-D tensor where the first dimension is batch size.\n",
    "    : num_outputs: The number of output that the new tensor should be.\n",
    "    : return: A 2-D tensor where the second dimension is num_outputs.\n",
    "    \"\"\"\n",
    "    # TODO: Implement Function\n",
    "    return tf.layers.dense(x_tensor, num_outputs)\n",
    "\n",
    "\n",
    "\"\"\"\n",
    "DON'T MODIFY ANYTHING IN THIS CELL THAT IS BELOW THIS LINE\n",
    "\"\"\"\n",
    "tests.test_output(output)"
   ]
  },
  {
   "cell_type": "markdown",
   "metadata": {},
   "source": [
    "### 创建卷积模型\n",
    "\n",
    "实现函数 `conv_net`， 创建卷积神经网络模型。该函数传入一批图片 `x`，并输出对数（logits）。使用你在上方创建的层创建此模型：\n",
    "\n",
    "* 应用 1、2 或 3 个卷积和最大池化层（Convolution and Max Pool layers）\n",
    "* 应用一个扁平层（Flatten Layer）\n",
    "* 应用 1、2 或 3 个完全连接层（Fully Connected Layers）\n",
    "* 应用一个输出层（Output Layer）\n",
    "* 返回输出\n",
    "* 使用 `keep_prob` 向模型中的一个或多个层应用 [TensorFlow 的 Dropout](https://www.tensorflow.org/api_docs/python/tf/nn/dropout)"
   ]
  },
  {
   "cell_type": "code",
   "execution_count": 110,
   "metadata": {},
   "outputs": [
    {
     "name": "stdout",
     "output_type": "stream",
     "text": [
      "Neural Network Built!\n"
     ]
    }
   ],
   "source": [
    "def conv_net(x, keep_prob):\n",
    "    \"\"\"\n",
    "    Create a convolutional neural network model\n",
    "    : x: Placeholder tensor that holds image data.\n",
    "    : keep_prob: Placeholder tensor that hold dropout keep probability.\n",
    "    : return: Tensor that represents logits\n",
    "    \"\"\"\n",
    "    # TODO: Apply 1, 2, or 3 Convolution and Max Pool layers\n",
    "    #    Play around with different number of outputs, kernel size and stride\n",
    "    # Function Definition from Above:\n",
    "    #    conv2d_maxpool(x_tensor, conv_num_outputs, conv_ksize, conv_strides, pool_ksize, pool_strides)\n",
    "    conv_ksize = (5, 5)\n",
    "    conv_strides = (1, 1)\n",
    "    pool_ksize = (2, 2)\n",
    "    pool_strides = (2, 2)\n",
    "    conv_neural_net = conv2d_maxpool(x, 16, conv_ksize, conv_strides, pool_ksize, pool_strides)\n",
    "    conv_neural_net = conv2d_maxpool(conv_neural_net, 64, conv_ksize, conv_strides, pool_ksize, pool_strides)\n",
    "    conv_neural_net = conv2d_maxpool(conv_neural_net, 128, conv_ksize, conv_strides, pool_ksize, pool_strides)\n",
    "\n",
    "    # TODO: Apply a Flatten Layer\n",
    "    # Function Definition from Above:\n",
    "    #   flatten(x_tensor)\n",
    "    conv_neural_net = flatten(conv_neural_net)\n",
    "\n",
    "    # TODO: Apply 1, 2, or 3 Fully Connected Layers\n",
    "    #    Play around with different number of outputs\n",
    "    # Function Definition from Above:\n",
    "    #   fully_conn(x_tensor, num_outputs)\n",
    "    conv_neural_net = fully_conn(conv_neural_net, 64)\n",
    "    conv_neural_net = fully_conn(conv_neural_net, 32)\n",
    "    conv_neural_net = fully_conn(conv_neural_net, 16)\n",
    "    conv_neural_net = tf.nn.dropout(conv_neural_net, keep_prob)\n",
    "    \n",
    "    # TODO: Apply an Output Layer\n",
    "    #    Set this to the number of classes\n",
    "    # Function Definition from Above:\n",
    "    #   output(x_tensor, num_outputs)\n",
    "    conv_neural_net = output(conv_neural_net, 10)\n",
    "    \n",
    "    # TODO: return output\n",
    "    return conv_neural_net\n",
    "\n",
    "\n",
    "\"\"\"\n",
    "DON'T MODIFY ANYTHING IN THIS CELL THAT IS BELOW THIS LINE\n",
    "\"\"\"\n",
    "\n",
    "##############################\n",
    "## Build the Neural Network ##\n",
    "##############################\n",
    "\n",
    "# Remove previous weights, bias, inputs, etc..\n",
    "tf.reset_default_graph()\n",
    "\n",
    "# Inputs\n",
    "x = neural_net_image_input((32, 32, 3))\n",
    "y = neural_net_label_input(10)\n",
    "keep_prob = neural_net_keep_prob_input()\n",
    "\n",
    "# Model\n",
    "logits = conv_net(x, keep_prob)\n",
    "\n",
    "# Name logits Tensor, so that is can be loaded from disk after training\n",
    "logits = tf.identity(logits, name='logits')\n",
    "\n",
    "# Loss and Optimizer\n",
    "cost = tf.reduce_mean(tf.nn.softmax_cross_entropy_with_logits(logits=logits, labels=y))\n",
    "optimizer = tf.train.AdamOptimizer().minimize(cost)\n",
    "\n",
    "# Accuracy\n",
    "correct_pred = tf.equal(tf.argmax(logits, 1), tf.argmax(y, 1))\n",
    "accuracy = tf.reduce_mean(tf.cast(correct_pred, tf.float32), name='accuracy')\n",
    "\n",
    "tests.test_conv_net(conv_net)"
   ]
  },
  {
   "cell_type": "markdown",
   "metadata": {},
   "source": [
    "## 训练神经网络\n",
    "\n",
    "### 单次优化\n",
    "\n",
    "实现函数 `train_neural_network` 以进行单次优化（single optimization）。该优化应该使用 `optimizer` 优化 `session`，其中 `feed_dict` 具有以下参数：\n",
    "\n",
    "* `x` 表示图片输入\n",
    "* `y` 表示标签\n",
    "* `keep_prob` 表示丢弃的保留率\n",
    "\n",
    "每个部分都会调用该函数，所以 `tf.global_variables_initializer()` 已经被调用。\n",
    "\n",
    "注意：不需要返回任何内容。该函数只是用来优化神经网络。\n"
   ]
  },
  {
   "cell_type": "code",
   "execution_count": 111,
   "metadata": {},
   "outputs": [
    {
     "name": "stdout",
     "output_type": "stream",
     "text": [
      "Tests Passed\n"
     ]
    }
   ],
   "source": [
    "def train_neural_network(session, optimizer, keep_probability, feature_batch, label_batch):\n",
    "    \"\"\"\n",
    "    Optimize the session on a batch of images and labels\n",
    "    : session: Current TensorFlow session\n",
    "    : optimizer: TensorFlow optimizer function\n",
    "    : keep_probability: keep probability\n",
    "    : feature_batch: Batch of Numpy image data\n",
    "    : label_batch: Batch of Numpy label data\n",
    "    \"\"\"\n",
    "    # TODO: Implement Function\n",
    "    session.run(optimizer, feed_dict={x: feature_batch, y: label_batch, keep_prob: keep_probability})\n",
    "\n",
    "\n",
    "\"\"\"\n",
    "DON'T MODIFY ANYTHING IN THIS CELL THAT IS BELOW THIS LINE\n",
    "\"\"\"\n",
    "tests.test_train_nn(train_neural_network)"
   ]
  },
  {
   "cell_type": "markdown",
   "metadata": {},
   "source": [
    "### 显示数据\n",
    "\n",
    "实现函数 `print_stats` 以输出损失和验证准确率。使用全局变量 `valid_features` 和 `valid_labels` 计算验证准确率。使用保留率 `1.0` 计算损失和验证准确率（loss and validation accuracy）。\n"
   ]
  },
  {
   "cell_type": "code",
   "execution_count": 112,
   "metadata": {},
   "outputs": [],
   "source": [
    "def print_stats(session, feature_batch, label_batch, cost, accuracy):\n",
    "    \"\"\"\n",
    "    Print information about loss and validation accuracy\n",
    "    : session: Current TensorFlow session\n",
    "    : feature_batch: Batch of Numpy image data\n",
    "    : label_batch: Batch of Numpy label data\n",
    "    : cost: TensorFlow cost function\n",
    "    : accuracy: TensorFlow accuracy function\n",
    "    \"\"\"\n",
    "    # TODO: Implement Function\n",
    "    global valid_features, valid_labels\n",
    "    accuracy = session.run(accuracy, feed_dict={x: valid_features, y: valid_labels, keep_prob: 1.0})\n",
    "    cost = session.run(cost, feed_dict={x: valid_features, y: valid_labels, keep_prob: 1.0})\n",
    "\n",
    "    print('Cost = {0} - Validation Accuracy = {1}'.format(cost, accuracy))\n",
    "        "
   ]
  },
  {
   "cell_type": "markdown",
   "metadata": {},
   "source": [
    "### 超参数\n",
    "\n",
    "调试以下超参数：\n",
    "* 设置 `epochs` 表示神经网络停止学习或开始过拟合的迭代次数\n",
    "* 设置 `batch_size`，表示机器内存允许的部分最大体积。大部分人设为以下常见内存大小：\n",
    "\n",
    " * 64\n",
    " * 128\n",
    " * 256\n",
    " * ...\n",
    "* 设置 `keep_probability` 表示使用丢弃时保留节点的概率"
   ]
  },
  {
   "cell_type": "code",
   "execution_count": 115,
   "metadata": {
    "collapsed": true
   },
   "outputs": [],
   "source": [
    "# TODO: Tune Parameters\n",
    "epochs = 30\n",
    "batch_size = 128\n",
    "keep_probability = 0.5"
   ]
  },
  {
   "cell_type": "markdown",
   "metadata": {},
   "source": [
    "### 在单个 CIFAR-10 部分上训练\n",
    "\n",
    "我们先用单个部分，而不是用所有的 CIFAR-10 批次训练神经网络。这样可以节省时间，并对模型进行迭代，以提高准确率。最终验证准确率达到 50% 或以上之后，在下一部分对所有数据运行模型。\n"
   ]
  },
  {
   "cell_type": "code",
   "execution_count": 116,
   "metadata": {},
   "outputs": [
    {
     "name": "stdout",
     "output_type": "stream",
     "text": [
      "Checking the Training on a Single Batch...\n",
      "Epoch  1, CIFAR-10 Batch 1:  Cost = 2.064204692840576 - Validation Accuracy = 0.23680000007152557\n",
      "Epoch  2, CIFAR-10 Batch 1:  Cost = 1.9308550357818604 - Validation Accuracy = 0.29840001463890076\n",
      "Epoch  3, CIFAR-10 Batch 1:  Cost = 1.8821667432785034 - Validation Accuracy = 0.3192000091075897\n",
      "Epoch  4, CIFAR-10 Batch 1:  Cost = 1.69149649143219 - Validation Accuracy = 0.3903999924659729\n",
      "Epoch  5, CIFAR-10 Batch 1:  Cost = 1.6609382629394531 - Validation Accuracy = 0.39340001344680786\n",
      "Epoch  6, CIFAR-10 Batch 1:  Cost = 1.5955084562301636 - Validation Accuracy = 0.41679999232292175\n",
      "Epoch  7, CIFAR-10 Batch 1:  Cost = 1.6316348314285278 - Validation Accuracy = 0.4041999876499176\n",
      "Epoch  8, CIFAR-10 Batch 1:  Cost = 1.7176517248153687 - Validation Accuracy = 0.4129999876022339\n",
      "Epoch  9, CIFAR-10 Batch 1:  Cost = 1.5207090377807617 - Validation Accuracy = 0.4514000117778778\n",
      "Epoch 10, CIFAR-10 Batch 1:  Cost = 1.503109335899353 - Validation Accuracy = 0.4733999967575073\n",
      "Epoch 11, CIFAR-10 Batch 1:  Cost = 1.6677404642105103 - Validation Accuracy = 0.44519999623298645\n",
      "Epoch 12, CIFAR-10 Batch 1:  Cost = 1.47822904586792 - Validation Accuracy = 0.4691999852657318\n",
      "Epoch 13, CIFAR-10 Batch 1:  Cost = 1.5912929773330688 - Validation Accuracy = 0.46639999747276306\n",
      "Epoch 14, CIFAR-10 Batch 1:  Cost = 1.4189820289611816 - Validation Accuracy = 0.503000020980835\n",
      "Epoch 15, CIFAR-10 Batch 1:  Cost = 1.4989081621170044 - Validation Accuracy = 0.45399999618530273\n",
      "Epoch 16, CIFAR-10 Batch 1:  Cost = 1.4275925159454346 - Validation Accuracy = 0.5058000087738037\n",
      "Epoch 17, CIFAR-10 Batch 1:  Cost = 1.5067217350006104 - Validation Accuracy = 0.5\n",
      "Epoch 18, CIFAR-10 Batch 1:  Cost = 1.509228229522705 - Validation Accuracy = 0.4758000075817108\n",
      "Epoch 19, CIFAR-10 Batch 1:  Cost = 1.5372533798217773 - Validation Accuracy = 0.5073999762535095\n",
      "Epoch 20, CIFAR-10 Batch 1:  Cost = 1.6478320360183716 - Validation Accuracy = 0.48559999465942383\n",
      "Epoch 21, CIFAR-10 Batch 1:  Cost = 1.6327733993530273 - Validation Accuracy = 0.5194000005722046\n",
      "Epoch 22, CIFAR-10 Batch 1:  Cost = 1.6739715337753296 - Validation Accuracy = 0.5127999782562256\n",
      "Epoch 23, CIFAR-10 Batch 1:  Cost = 1.672666072845459 - Validation Accuracy = 0.5216000080108643\n",
      "Epoch 24, CIFAR-10 Batch 1:  Cost = 1.739970326423645 - Validation Accuracy = 0.5166000127792358\n",
      "Epoch 25, CIFAR-10 Batch 1:  Cost = 1.8085851669311523 - Validation Accuracy = 0.5235999822616577\n",
      "Epoch 26, CIFAR-10 Batch 1:  Cost = 1.778934359550476 - Validation Accuracy = 0.5370000004768372\n",
      "Epoch 27, CIFAR-10 Batch 1:  Cost = 1.7110412120819092 - Validation Accuracy = 0.5419999957084656\n",
      "Epoch 28, CIFAR-10 Batch 1:  Cost = 1.9165812730789185 - Validation Accuracy = 0.5317999720573425\n",
      "Epoch 29, CIFAR-10 Batch 1:  Cost = 1.9898333549499512 - Validation Accuracy = 0.5221999883651733\n",
      "Epoch 30, CIFAR-10 Batch 1:  Cost = 2.0161962509155273 - Validation Accuracy = 0.5153999924659729\n"
     ]
    }
   ],
   "source": [
    "\"\"\"\n",
    "DON'T MODIFY ANYTHING IN THIS CELL\n",
    "\"\"\"\n",
    "print('Checking the Training on a Single Batch...')\n",
    "with tf.Session() as sess:\n",
    "    # Initializing the variables\n",
    "    sess.run(tf.global_variables_initializer())\n",
    "    \n",
    "    # Training cycle\n",
    "    for epoch in range(epochs):\n",
    "        batch_i = 1\n",
    "        for batch_features, batch_labels in helper.load_preprocess_training_batch(batch_i, batch_size):\n",
    "            train_neural_network(sess, optimizer, keep_probability, batch_features, batch_labels)\n",
    "        print('Epoch {:>2}, CIFAR-10 Batch {}:  '.format(epoch + 1, batch_i), end='')\n",
    "        print_stats(sess, batch_features, batch_labels, cost, accuracy)"
   ]
  },
  {
   "cell_type": "markdown",
   "metadata": {},
   "source": [
    "### 完全训练模型\n",
    "\n",
    "现在，单个 CIFAR-10 部分的准确率已经不错了，试试所有五个部分吧。"
   ]
  },
  {
   "cell_type": "code",
   "execution_count": 117,
   "metadata": {},
   "outputs": [
    {
     "name": "stdout",
     "output_type": "stream",
     "text": [
      "Training...\n",
      "Epoch  1, CIFAR-10 Batch 1:  Cost = 2.199293375015259 - Validation Accuracy = 0.1777999997138977\n",
      "Epoch  1, CIFAR-10 Batch 2:  Cost = 2.0152053833007812 - Validation Accuracy = 0.27459999918937683\n",
      "Epoch  1, CIFAR-10 Batch 3:  Cost = 1.8955343961715698 - Validation Accuracy = 0.27379998564720154\n",
      "Epoch  1, CIFAR-10 Batch 4:  Cost = 1.7364051342010498 - Validation Accuracy = 0.3637999892234802\n",
      "Epoch  1, CIFAR-10 Batch 5:  Cost = 1.6465299129486084 - Validation Accuracy = 0.40459999442100525\n",
      "Epoch  2, CIFAR-10 Batch 1:  Cost = 1.694248080253601 - Validation Accuracy = 0.3734000027179718\n",
      "Epoch  2, CIFAR-10 Batch 2:  Cost = 1.6054284572601318 - Validation Accuracy = 0.42640000581741333\n",
      "Epoch  2, CIFAR-10 Batch 3:  Cost = 1.4968594312667847 - Validation Accuracy = 0.4602000117301941\n",
      "Epoch  2, CIFAR-10 Batch 4:  Cost = 1.4460334777832031 - Validation Accuracy = 0.4912000000476837\n",
      "Epoch  2, CIFAR-10 Batch 5:  Cost = 1.4501562118530273 - Validation Accuracy = 0.47620001435279846\n",
      "Epoch  3, CIFAR-10 Batch 1:  Cost = 1.4238473176956177 - Validation Accuracy = 0.4848000109195709\n",
      "Epoch  3, CIFAR-10 Batch 2:  Cost = 1.3981404304504395 - Validation Accuracy = 0.5027999877929688\n",
      "Epoch  3, CIFAR-10 Batch 3:  Cost = 1.3961076736450195 - Validation Accuracy = 0.47780001163482666\n",
      "Epoch  3, CIFAR-10 Batch 4:  Cost = 1.3292367458343506 - Validation Accuracy = 0.5302000045776367\n",
      "Epoch  3, CIFAR-10 Batch 5:  Cost = 1.3132511377334595 - Validation Accuracy = 0.5368000268936157\n",
      "Epoch  4, CIFAR-10 Batch 1:  Cost = 1.3497236967086792 - Validation Accuracy = 0.5152000188827515\n",
      "Epoch  4, CIFAR-10 Batch 2:  Cost = 1.3157635927200317 - Validation Accuracy = 0.5275999903678894\n",
      "Epoch  4, CIFAR-10 Batch 3:  Cost = 1.307182788848877 - Validation Accuracy = 0.5288000106811523\n",
      "Epoch  4, CIFAR-10 Batch 4:  Cost = 1.273836612701416 - Validation Accuracy = 0.545799970626831\n",
      "Epoch  4, CIFAR-10 Batch 5:  Cost = 1.2357701063156128 - Validation Accuracy = 0.5547999739646912\n",
      "Epoch  5, CIFAR-10 Batch 1:  Cost = 1.2505161762237549 - Validation Accuracy = 0.5659999847412109\n",
      "Epoch  5, CIFAR-10 Batch 2:  Cost = 1.2516469955444336 - Validation Accuracy = 0.5623999834060669\n",
      "Epoch  5, CIFAR-10 Batch 3:  Cost = 1.2707687616348267 - Validation Accuracy = 0.5432000160217285\n",
      "Epoch  5, CIFAR-10 Batch 4:  Cost = 1.21282160282135 - Validation Accuracy = 0.5680000185966492\n",
      "Epoch  5, CIFAR-10 Batch 5:  Cost = 1.2107272148132324 - Validation Accuracy = 0.5633999705314636\n",
      "Epoch  6, CIFAR-10 Batch 1:  Cost = 1.2286255359649658 - Validation Accuracy = 0.5667999982833862\n",
      "Epoch  6, CIFAR-10 Batch 2:  Cost = 1.2073850631713867 - Validation Accuracy = 0.5785999894142151\n",
      "Epoch  6, CIFAR-10 Batch 3:  Cost = 1.23587167263031 - Validation Accuracy = 0.5547999739646912\n",
      "Epoch  6, CIFAR-10 Batch 4:  Cost = 1.2045066356658936 - Validation Accuracy = 0.5703999996185303\n",
      "Epoch  6, CIFAR-10 Batch 5:  Cost = 1.1867656707763672 - Validation Accuracy = 0.5759999752044678\n",
      "Epoch  7, CIFAR-10 Batch 1:  Cost = 1.1819301843643188 - Validation Accuracy = 0.5907999873161316\n",
      "Epoch  7, CIFAR-10 Batch 2:  Cost = 1.18245267868042 - Validation Accuracy = 0.5799999833106995\n",
      "Epoch  7, CIFAR-10 Batch 3:  Cost = 1.1787015199661255 - Validation Accuracy = 0.5863999724388123\n",
      "Epoch  7, CIFAR-10 Batch 4:  Cost = 1.138020396232605 - Validation Accuracy = 0.6021999716758728\n",
      "Epoch  7, CIFAR-10 Batch 5:  Cost = 1.1775373220443726 - Validation Accuracy = 0.5911999940872192\n",
      "Epoch  8, CIFAR-10 Batch 1:  Cost = 1.126246690750122 - Validation Accuracy = 0.6061999797821045\n",
      "Epoch  8, CIFAR-10 Batch 2:  Cost = 1.1356569528579712 - Validation Accuracy = 0.6046000123023987\n",
      "Epoch  8, CIFAR-10 Batch 3:  Cost = 1.1171401739120483 - Validation Accuracy = 0.6033999919891357\n",
      "Epoch  8, CIFAR-10 Batch 4:  Cost = 1.1138710975646973 - Validation Accuracy = 0.6096000075340271\n",
      "Epoch  8, CIFAR-10 Batch 5:  Cost = 1.161757469177246 - Validation Accuracy = 0.5943999886512756\n",
      "Epoch  9, CIFAR-10 Batch 1:  Cost = 1.102522611618042 - Validation Accuracy = 0.6248000264167786\n",
      "Epoch  9, CIFAR-10 Batch 2:  Cost = 1.1219784021377563 - Validation Accuracy = 0.6136000156402588\n",
      "Epoch  9, CIFAR-10 Batch 3:  Cost = 1.148171305656433 - Validation Accuracy = 0.5953999757766724\n",
      "Epoch  9, CIFAR-10 Batch 4:  Cost = 1.15316641330719 - Validation Accuracy = 0.6083999872207642\n",
      "Epoch  9, CIFAR-10 Batch 5:  Cost = 1.1859315633773804 - Validation Accuracy = 0.5852000117301941\n",
      "Epoch 10, CIFAR-10 Batch 1:  Cost = 1.1174359321594238 - Validation Accuracy = 0.621999979019165\n",
      "Epoch 10, CIFAR-10 Batch 2:  Cost = 1.1605985164642334 - Validation Accuracy = 0.6018000245094299\n",
      "Epoch 10, CIFAR-10 Batch 3:  Cost = 1.1528654098510742 - Validation Accuracy = 0.6151999831199646\n",
      "Epoch 10, CIFAR-10 Batch 4:  Cost = 1.1620129346847534 - Validation Accuracy = 0.6096000075340271\n",
      "Epoch 10, CIFAR-10 Batch 5:  Cost = 1.1265658140182495 - Validation Accuracy = 0.623199999332428\n",
      "Epoch 11, CIFAR-10 Batch 1:  Cost = 1.1036518812179565 - Validation Accuracy = 0.629800021648407\n",
      "Epoch 11, CIFAR-10 Batch 2:  Cost = 1.1125895977020264 - Validation Accuracy = 0.618399977684021\n",
      "Epoch 11, CIFAR-10 Batch 3:  Cost = 1.1467859745025635 - Validation Accuracy = 0.6222000122070312\n",
      "Epoch 11, CIFAR-10 Batch 4:  Cost = 1.1387723684310913 - Validation Accuracy = 0.6222000122070312\n",
      "Epoch 11, CIFAR-10 Batch 5:  Cost = 1.162338137626648 - Validation Accuracy = 0.628600001335144\n",
      "Epoch 12, CIFAR-10 Batch 1:  Cost = 1.1883498430252075 - Validation Accuracy = 0.6129999756813049\n",
      "Epoch 12, CIFAR-10 Batch 2:  Cost = 1.0880402326583862 - Validation Accuracy = 0.6277999877929688\n",
      "Epoch 12, CIFAR-10 Batch 3:  Cost = 1.1489886045455933 - Validation Accuracy = 0.6317999958992004\n",
      "Epoch 12, CIFAR-10 Batch 4:  Cost = 1.1420998573303223 - Validation Accuracy = 0.628000020980835\n",
      "Epoch 12, CIFAR-10 Batch 5:  Cost = 1.0995163917541504 - Validation Accuracy = 0.6273999810218811\n",
      "Epoch 13, CIFAR-10 Batch 1:  Cost = 1.164963722229004 - Validation Accuracy = 0.6366000175476074\n",
      "Epoch 13, CIFAR-10 Batch 2:  Cost = 1.1703746318817139 - Validation Accuracy = 0.6191999912261963\n",
      "Epoch 13, CIFAR-10 Batch 3:  Cost = 1.16923987865448 - Validation Accuracy = 0.6222000122070312\n",
      "Epoch 13, CIFAR-10 Batch 4:  Cost = 1.1435412168502808 - Validation Accuracy = 0.6266000270843506\n",
      "Epoch 13, CIFAR-10 Batch 5:  Cost = 1.2154289484024048 - Validation Accuracy = 0.5996000170707703\n",
      "Epoch 14, CIFAR-10 Batch 1:  Cost = 1.2255933284759521 - Validation Accuracy = 0.628000020980835\n",
      "Epoch 14, CIFAR-10 Batch 2:  Cost = 1.1459771394729614 - Validation Accuracy = 0.6312000155448914\n",
      "Epoch 14, CIFAR-10 Batch 3:  Cost = 1.1675468683242798 - Validation Accuracy = 0.6305999755859375\n",
      "Epoch 14, CIFAR-10 Batch 4:  Cost = 1.2469929456710815 - Validation Accuracy = 0.6287999749183655\n",
      "Epoch 14, CIFAR-10 Batch 5:  Cost = 1.2121018171310425 - Validation Accuracy = 0.607200026512146\n",
      "Epoch 15, CIFAR-10 Batch 1:  Cost = 1.2299789190292358 - Validation Accuracy = 0.6273999810218811\n",
      "Epoch 15, CIFAR-10 Batch 2:  Cost = 1.1721198558807373 - Validation Accuracy = 0.6348000168800354\n",
      "Epoch 15, CIFAR-10 Batch 3:  Cost = 1.171567440032959 - Validation Accuracy = 0.6420000195503235\n",
      "Epoch 15, CIFAR-10 Batch 4:  Cost = 1.1931283473968506 - Validation Accuracy = 0.6248000264167786\n",
      "Epoch 15, CIFAR-10 Batch 5:  Cost = 1.2192636728286743 - Validation Accuracy = 0.620199978351593\n",
      "Epoch 16, CIFAR-10 Batch 1:  Cost = 1.2899950742721558 - Validation Accuracy = 0.6258000135421753\n",
      "Epoch 16, CIFAR-10 Batch 2:  Cost = 1.2030175924301147 - Validation Accuracy = 0.6367999911308289\n",
      "Epoch 16, CIFAR-10 Batch 3:  Cost = 1.2039954662322998 - Validation Accuracy = 0.6395999789237976\n",
      "Epoch 16, CIFAR-10 Batch 4:  Cost = 1.1940397024154663 - Validation Accuracy = 0.6367999911308289\n",
      "Epoch 16, CIFAR-10 Batch 5:  Cost = 1.183579921722412 - Validation Accuracy = 0.6492000222206116\n",
      "Epoch 17, CIFAR-10 Batch 1:  Cost = 1.193365216255188 - Validation Accuracy = 0.6571999788284302\n",
      "Epoch 17, CIFAR-10 Batch 2:  Cost = 1.2365622520446777 - Validation Accuracy = 0.6557999849319458\n",
      "Epoch 17, CIFAR-10 Batch 3:  Cost = 1.1921542882919312 - Validation Accuracy = 0.6407999992370605\n",
      "Epoch 17, CIFAR-10 Batch 4:  Cost = 1.2394185066223145 - Validation Accuracy = 0.6384000182151794\n"
     ]
    },
    {
     "name": "stdout",
     "output_type": "stream",
     "text": [
      "Epoch 17, CIFAR-10 Batch 5:  Cost = 1.1900215148925781 - Validation Accuracy = 0.6498000025749207\n",
      "Epoch 18, CIFAR-10 Batch 1:  Cost = 1.2664916515350342 - Validation Accuracy = 0.6470000147819519\n",
      "Epoch 18, CIFAR-10 Batch 2:  Cost = 1.4678571224212646 - Validation Accuracy = 0.6251999735832214\n",
      "Epoch 18, CIFAR-10 Batch 3:  Cost = 1.314819574356079 - Validation Accuracy = 0.6331999897956848\n",
      "Epoch 18, CIFAR-10 Batch 4:  Cost = 1.2818533182144165 - Validation Accuracy = 0.6377999782562256\n",
      "Epoch 18, CIFAR-10 Batch 5:  Cost = 1.296525239944458 - Validation Accuracy = 0.6403999924659729\n",
      "Epoch 19, CIFAR-10 Batch 1:  Cost = 1.2154958248138428 - Validation Accuracy = 0.6535999774932861\n",
      "Epoch 19, CIFAR-10 Batch 2:  Cost = 1.277384638786316 - Validation Accuracy = 0.652999997138977\n",
      "Epoch 19, CIFAR-10 Batch 3:  Cost = 1.2457869052886963 - Validation Accuracy = 0.6628000140190125\n",
      "Epoch 19, CIFAR-10 Batch 4:  Cost = 1.3511097431182861 - Validation Accuracy = 0.6611999869346619\n",
      "Epoch 19, CIFAR-10 Batch 5:  Cost = 1.276716709136963 - Validation Accuracy = 0.6480000019073486\n",
      "Epoch 20, CIFAR-10 Batch 1:  Cost = 1.283421277999878 - Validation Accuracy = 0.6489999890327454\n",
      "Epoch 20, CIFAR-10 Batch 2:  Cost = 1.3837848901748657 - Validation Accuracy = 0.6435999870300293\n",
      "Epoch 20, CIFAR-10 Batch 3:  Cost = 1.30122971534729 - Validation Accuracy = 0.657800018787384\n",
      "Epoch 20, CIFAR-10 Batch 4:  Cost = 1.3012481927871704 - Validation Accuracy = 0.6632000207901001\n",
      "Epoch 20, CIFAR-10 Batch 5:  Cost = 1.3867214918136597 - Validation Accuracy = 0.6439999938011169\n",
      "Epoch 21, CIFAR-10 Batch 1:  Cost = 1.377367377281189 - Validation Accuracy = 0.659600019454956\n",
      "Epoch 21, CIFAR-10 Batch 2:  Cost = 1.3954493999481201 - Validation Accuracy = 0.6690000295639038\n",
      "Epoch 21, CIFAR-10 Batch 3:  Cost = 1.3515753746032715 - Validation Accuracy = 0.6480000019073486\n",
      "Epoch 21, CIFAR-10 Batch 4:  Cost = 1.3312355279922485 - Validation Accuracy = 0.6593999862670898\n",
      "Epoch 21, CIFAR-10 Batch 5:  Cost = 1.4180995225906372 - Validation Accuracy = 0.6549999713897705\n",
      "Epoch 22, CIFAR-10 Batch 1:  Cost = 1.4638785123825073 - Validation Accuracy = 0.649399995803833\n",
      "Epoch 22, CIFAR-10 Batch 2:  Cost = 1.4587815999984741 - Validation Accuracy = 0.6654000282287598\n",
      "Epoch 22, CIFAR-10 Batch 3:  Cost = 1.3253564834594727 - Validation Accuracy = 0.6628000140190125\n",
      "Epoch 22, CIFAR-10 Batch 4:  Cost = 1.3777023553848267 - Validation Accuracy = 0.6650000214576721\n",
      "Epoch 22, CIFAR-10 Batch 5:  Cost = 1.4150381088256836 - Validation Accuracy = 0.6585999727249146\n",
      "Epoch 23, CIFAR-10 Batch 1:  Cost = 1.4654970169067383 - Validation Accuracy = 0.6606000065803528\n",
      "Epoch 23, CIFAR-10 Batch 2:  Cost = 1.3953849077224731 - Validation Accuracy = 0.6710000038146973\n",
      "Epoch 23, CIFAR-10 Batch 3:  Cost = 1.3855477571487427 - Validation Accuracy = 0.6642000079154968\n",
      "Epoch 23, CIFAR-10 Batch 4:  Cost = 1.4735655784606934 - Validation Accuracy = 0.6520000100135803\n",
      "Epoch 23, CIFAR-10 Batch 5:  Cost = 1.5550987720489502 - Validation Accuracy = 0.6510000228881836\n",
      "Epoch 24, CIFAR-10 Batch 1:  Cost = 1.4702389240264893 - Validation Accuracy = 0.6521999835968018\n",
      "Epoch 24, CIFAR-10 Batch 2:  Cost = 1.5932457447052002 - Validation Accuracy = 0.6362000107765198\n",
      "Epoch 24, CIFAR-10 Batch 3:  Cost = 1.4291274547576904 - Validation Accuracy = 0.6564000248908997\n",
      "Epoch 24, CIFAR-10 Batch 4:  Cost = 1.4771995544433594 - Validation Accuracy = 0.6571999788284302\n",
      "Epoch 24, CIFAR-10 Batch 5:  Cost = 1.4811687469482422 - Validation Accuracy = 0.673799991607666\n",
      "Epoch 25, CIFAR-10 Batch 1:  Cost = 1.4463117122650146 - Validation Accuracy = 0.6603999733924866\n",
      "Epoch 25, CIFAR-10 Batch 2:  Cost = 1.4985294342041016 - Validation Accuracy = 0.650600016117096\n",
      "Epoch 25, CIFAR-10 Batch 3:  Cost = 1.4318252801895142 - Validation Accuracy = 0.6651999950408936\n",
      "Epoch 25, CIFAR-10 Batch 4:  Cost = 1.4255168437957764 - Validation Accuracy = 0.6606000065803528\n",
      "Epoch 25, CIFAR-10 Batch 5:  Cost = 1.6221178770065308 - Validation Accuracy = 0.6481999754905701\n",
      "Epoch 26, CIFAR-10 Batch 1:  Cost = 1.6015472412109375 - Validation Accuracy = 0.6642000079154968\n",
      "Epoch 26, CIFAR-10 Batch 2:  Cost = 1.6005043983459473 - Validation Accuracy = 0.6570000052452087\n",
      "Epoch 26, CIFAR-10 Batch 3:  Cost = 1.5234591960906982 - Validation Accuracy = 0.6585999727249146\n",
      "Epoch 26, CIFAR-10 Batch 4:  Cost = 1.4923995733261108 - Validation Accuracy = 0.6597999930381775\n",
      "Epoch 26, CIFAR-10 Batch 5:  Cost = 1.7403258085250854 - Validation Accuracy = 0.6556000113487244\n",
      "Epoch 27, CIFAR-10 Batch 1:  Cost = 1.5066992044448853 - Validation Accuracy = 0.6588000059127808\n",
      "Epoch 27, CIFAR-10 Batch 2:  Cost = 1.4643008708953857 - Validation Accuracy = 0.670799970626831\n",
      "Epoch 27, CIFAR-10 Batch 3:  Cost = 1.5189945697784424 - Validation Accuracy = 0.6647999882698059\n",
      "Epoch 27, CIFAR-10 Batch 4:  Cost = 1.568972110748291 - Validation Accuracy = 0.6398000121116638\n",
      "Epoch 27, CIFAR-10 Batch 5:  Cost = 1.6555637121200562 - Validation Accuracy = 0.6639999747276306\n",
      "Epoch 28, CIFAR-10 Batch 1:  Cost = 1.5257070064544678 - Validation Accuracy = 0.6654000282287598\n",
      "Epoch 28, CIFAR-10 Batch 2:  Cost = 1.5920908451080322 - Validation Accuracy = 0.652400016784668\n",
      "Epoch 28, CIFAR-10 Batch 3:  Cost = 1.75252103805542 - Validation Accuracy = 0.6520000100135803\n",
      "Epoch 28, CIFAR-10 Batch 4:  Cost = 1.5037684440612793 - Validation Accuracy = 0.6517999768257141\n",
      "Epoch 28, CIFAR-10 Batch 5:  Cost = 1.8151626586914062 - Validation Accuracy = 0.6466000080108643\n",
      "Epoch 29, CIFAR-10 Batch 1:  Cost = 1.587855577468872 - Validation Accuracy = 0.671999990940094\n",
      "Epoch 29, CIFAR-10 Batch 2:  Cost = 1.5386199951171875 - Validation Accuracy = 0.6638000011444092\n",
      "Epoch 29, CIFAR-10 Batch 3:  Cost = 1.6102473735809326 - Validation Accuracy = 0.652400016784668\n",
      "Epoch 29, CIFAR-10 Batch 4:  Cost = 1.6504511833190918 - Validation Accuracy = 0.6564000248908997\n",
      "Epoch 29, CIFAR-10 Batch 5:  Cost = 1.7446632385253906 - Validation Accuracy = 0.6651999950408936\n",
      "Epoch 30, CIFAR-10 Batch 1:  Cost = 1.7669265270233154 - Validation Accuracy = 0.6517999768257141\n",
      "Epoch 30, CIFAR-10 Batch 2:  Cost = 1.6370735168457031 - Validation Accuracy = 0.6642000079154968\n",
      "Epoch 30, CIFAR-10 Batch 3:  Cost = 1.5702853202819824 - Validation Accuracy = 0.6633999943733215\n",
      "Epoch 30, CIFAR-10 Batch 4:  Cost = 1.6969103813171387 - Validation Accuracy = 0.6574000120162964\n",
      "Epoch 30, CIFAR-10 Batch 5:  Cost = 1.6210079193115234 - Validation Accuracy = 0.6654000282287598\n"
     ]
    }
   ],
   "source": [
    "\"\"\"\n",
    "DON'T MODIFY ANYTHING IN THIS CELL\n",
    "\"\"\"\n",
    "save_model_path = './image_classification'\n",
    "\n",
    "print('Training...')\n",
    "with tf.Session() as sess:\n",
    "    # Initializing the variables\n",
    "    sess.run(tf.global_variables_initializer())\n",
    "    \n",
    "    # Training cycle\n",
    "    for epoch in range(epochs):\n",
    "        # Loop over all batches\n",
    "        n_batches = 5\n",
    "        for batch_i in range(1, n_batches + 1):\n",
    "            for batch_features, batch_labels in helper.load_preprocess_training_batch(batch_i, batch_size):\n",
    "                train_neural_network(sess, optimizer, keep_probability, batch_features, batch_labels)\n",
    "            print('Epoch {:>2}, CIFAR-10 Batch {}:  '.format(epoch + 1, batch_i), end='')\n",
    "            print_stats(sess, batch_features, batch_labels, cost, accuracy)\n",
    "            \n",
    "    # Save Model\n",
    "    saver = tf.train.Saver()\n",
    "    save_path = saver.save(sess, save_model_path)"
   ]
  },
  {
   "cell_type": "markdown",
   "metadata": {},
   "source": [
    "# 检查点\n",
    "\n",
    "模型已保存到本地。\n",
    "\n",
    "## 测试模型\n",
    "\n",
    "利用测试数据集测试你的模型。这将是最终的准确率。你的准确率应该高于 50%。如果没达到，请继续调整模型结构和参数。"
   ]
  },
  {
   "cell_type": "code",
   "execution_count": 118,
   "metadata": {},
   "outputs": [
    {
     "name": "stdout",
     "output_type": "stream",
     "text": [
      "INFO:tensorflow:Restoring parameters from ./image_classification\n",
      "Testing Accuracy: 0.6594145569620253\n",
      "\n"
     ]
    },
    {
     "data": {
      "image/png": "[encoded data removed]",
      "text/plain": [
       "<matplotlib.figure.Figure at 0x1301c11d0>"
      ]
     },
     "metadata": {
      "image/png": {
       "height": 319,
       "width": 355
      }
     },
     "output_type": "display_data"
    }
   ],
   "source": [
    "\"\"\"\n",
    "DON'T MODIFY ANYTHING IN THIS CELL\n",
    "\"\"\"\n",
    "%matplotlib inline\n",
    "%config InlineBackend.figure_format = 'retina'\n",
    "\n",
    "import tensorflow as tf\n",
    "import pickle\n",
    "import helper\n",
    "import random\n",
    "\n",
    "# Set batch size if not already set\n",
    "try:\n",
    "    if batch_size:\n",
    "        pass\n",
    "except NameError:\n",
    "    batch_size = 64\n",
    "\n",
    "save_model_path = './image_classification'\n",
    "n_samples = 4\n",
    "top_n_predictions = 3\n",
    "\n",
    "def test_model():\n",
    "    \"\"\"\n",
    "    Test the saved model against the test dataset\n",
    "    \"\"\"\n",
    "\n",
    "    test_features, test_labels = pickle.load(open('preprocess_test.p', mode='rb'))\n",
    "    loaded_graph = tf.Graph()\n",
    "\n",
    "    with tf.Session(graph=loaded_graph) as sess:\n",
    "        # Load model\n",
    "        loader = tf.train.import_meta_graph(save_model_path + '.meta')\n",
    "        loader.restore(sess, save_model_path)\n",
    "\n",
    "        # Get Tensors from loaded model\n",
    "        loaded_x = loaded_graph.get_tensor_by_name('x:0')\n",
    "        loaded_y = loaded_graph.get_tensor_by_name('y:0')\n",
    "        loaded_keep_prob = loaded_graph.get_tensor_by_name('keep_prob:0')\n",
    "        loaded_logits = loaded_graph.get_tensor_by_name('logits:0')\n",
    "        loaded_acc = loaded_graph.get_tensor_by_name('accuracy:0')\n",
    "        \n",
    "        # Get accuracy in batches for memory limitations\n",
    "        test_batch_acc_total = 0\n",
    "        test_batch_count = 0\n",
    "        \n",
    "        for test_feature_batch, test_label_batch in helper.batch_features_labels(test_features, test_labels, batch_size):\n",
    "            test_batch_acc_total += sess.run(\n",
    "                loaded_acc,\n",
    "                feed_dict={loaded_x: test_feature_batch, loaded_y: test_label_batch, loaded_keep_prob: 1.0})\n",
    "            test_batch_count += 1\n",
    "\n",
    "        print('Testing Accuracy: {}\\n'.format(test_batch_acc_total/test_batch_count))\n",
    "\n",
    "        # Print Random Samples\n",
    "        random_test_features, random_test_labels = tuple(zip(*random.sample(list(zip(test_features, test_labels)), n_samples)))\n",
    "        random_test_predictions = sess.run(\n",
    "            tf.nn.top_k(tf.nn.softmax(loaded_logits), top_n_predictions),\n",
    "            feed_dict={loaded_x: random_test_features, loaded_y: random_test_labels, loaded_keep_prob: 1.0})\n",
    "        helper.display_image_predictions(random_test_features, random_test_labels, random_test_predictions)\n",
    "\n",
    "\n",
    "test_model()"
   ]
  },
  {
   "cell_type": "markdown",
   "metadata": {},
   "source": [
    "## 为何准确率只有50-80%？\n",
    "\n",
    "你可能想问，为何准确率不能更高了？首先，对于简单的 CNN 网络来说，50% 已经不低了。纯粹猜测的准确率为10%。但是，你可能注意到有人的准确率[远远超过 80%](http://rodrigob.github.io/are_we_there_yet/build/classification_datasets_results.html#43494641522d3130)。这是因为我们还没有介绍所有的神经网络知识。我们还需要掌握一些其他技巧。\n",
    "\n",
    "## 提交项目\n",
    "\n",
    "提交项目时，确保先运行所有单元，然后再保存记事本。将 notebook 文件另存为“dlnd_image_classification.ipynb”，再在目录 \"File\" -> \"Download as\" 另存为 HTML 格式。请在提交的项目中包含 “helper.py” 和 “problem_unittests.py” 文件。\n"
   ]
  }
 ],
 "metadata": {
  "kernelspec": {
   "display_name": "Python 3",
   "language": "python",
   "name": "python3"
  },
  "language_info": {
   "codemirror_mode": {
    "name": "ipython",
    "version": 3
   },
   "file_extension": ".py",
   "mimetype": "text/x-python",
   "name": "python",
   "nbconvert_exporter": "python",
   "pygments_lexer": "ipython3",
   "version": "3.6.2"
  }
 },
 "nbformat": 4,
 "nbformat_minor": 1
}
